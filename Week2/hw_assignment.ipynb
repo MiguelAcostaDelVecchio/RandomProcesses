{
 "cells": [
  {
   "cell_type": "raw",
   "id": "102a9d4b",
   "metadata": {
    "pycharm": {
     "name": "#%% raw\n"
    }
   },
   "source": [
    "I have conducted an experiment as follows:\n",
    "\n",
    "Step 1: a pair of dice are rolled. Their sum is random variable $x$\n",
    "\n",
    "Step 2: random variable $y$ is decided as follows: \n",
    "\n",
    "* If $x$ is less than or equal to 5, then $y$ is 0, 1, or 2 with equal probability. \n",
    "* If $x$ is greater than 5, then $y$ is 1 or 2 with probability 0.25, or 3 with probability 0.5.\n",
    "\n",
    "[a] Determine theoretical computations for each of the following:\n",
    "\n",
    "$E(x), Var(x)$\n",
    "\n",
    "$E(y), Var(y)$\n",
    "\n",
    "$E(y | x>5) , Var(y | x > 5)$\n",
    "\n",
    "$E(y | x<10), Var(y | x<10)$\n",
    "\n",
    "$Cov(x,y)$\n",
    "\n",
    "Some of these are harder than others.\n",
    "\n",
    "[b] The data file `hw2.npy` contains 25,000 sets of data from this experiment. Load the data by typing:\n",
    "\n",
    "```\n",
    "data = np.load('hw2.npy')\n",
    "x = data[:,0]\n",
    "y = data[:,1]\n",
    "```\n",
    "\n",
    "Use Python to compute the nine statistics above from the data. How accurate are they? Are some more accurate than others? Why?\n",
    "\n",
    "Submit your responses in a single Jupyter (ipynb) file through the Canvas portal."
   ]
  }
 ],
 "metadata": {
  "kernelspec": {
   "display_name": "Python 3",
   "language": "python",
   "name": "python3"
  },
  "language_info": {
   "codemirror_mode": {
    "name": "ipython",
    "version": 3
   },
   "file_extension": ".py",
   "mimetype": "text/x-python",
   "name": "python",
   "nbconvert_exporter": "python",
   "pygments_lexer": "ipython3",
   "version": "3.8.3"
  }
 },
 "nbformat": 4,
 "nbformat_minor": 5
}