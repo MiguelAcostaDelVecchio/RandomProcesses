{
 "cells": [
  {
   "cell_type": "code",
   "execution_count": 7,
   "id": "25c00561",
   "metadata": {},
   "outputs": [],
   "source": [
    "import numpy as np\n",
    "import matplotlib.pyplot as plt\n",
    "import scipy.stats as stats"
   ]
  },
  {
   "cell_type": "code",
   "execution_count": 50,
   "id": "eed215c2",
   "metadata": {},
   "outputs": [
    {
     "name": "stdout",
     "output_type": "stream",
     "text": [
      "0\n",
      "1\n",
      "2\n",
      "3\n",
      "4\n"
     ]
    }
   ],
   "source": [
    "# how does the range function work?\n",
    "for i in range(5):\n",
    "    print(i)"
   ]
  },
  {
   "cell_type": "code",
   "execution_count": 67,
   "id": "20bc5ec9",
   "metadata": {},
   "outputs": [
    {
     "name": "stdout",
     "output_type": "stream",
     "text": [
      "  mean     var   stdev\n",
      "  0.00    8.99    3.00\n",
      "-10.00    1.00    1.00\n"
     ]
    }
   ],
   "source": [
    "# create two normally distributed random variables and verify that the\n",
    "# mean, variance, and standard deviation are as expected\n",
    "\n",
    "# also display the histograms to verify they match the mean and variance\n",
    "\n",
    "N = int(1e6)\n",
    "\n",
    "x = stats.norm( 0,3).rvs(N)\n",
    "y = stats.norm(-10,1).rvs(N)\n",
    "\n",
    "print(f\"{'mean':>6s}  {'var':>6s}  {'stdev':>6s}\" )\n",
    "print(f\"{x.mean():6.2f}  {x.var():6.2f}  {x.std():6.2f}\" )\n",
    "print(f\"{y.mean():6.2f}  {y.var():6.2f}  {y.std():6.2f}\" )"
   ]
  },
  {
   "cell_type": "code",
   "execution_count": 69,
   "id": "ddb3bb5e",
   "metadata": {},
   "outputs": [
    {
     "name": "stdout",
     "output_type": "stream",
     "text": [
      "[ 0.03065813 -4.54272647 -5.81030987 -3.6183117  -1.66355681  5.09472401\n",
      "  3.37087905 -3.62498364  5.063967    3.62465622]\n"
     ]
    }
   ],
   "source": [
    "# print the first 10 values of x, just for illustration\n",
    "print(x[0:10])"
   ]
  },
  {
   "cell_type": "code",
   "execution_count": 70,
   "id": "ee6de03b",
   "metadata": {},
   "outputs": [
    {
     "data": {
      "image/png": "[encoded data removed]",
      "text/plain": [
       "<Figure size 640x480 with 1 Axes>"
      ]
     },
     "metadata": {},
     "output_type": "display_data"
    }
   ],
   "source": [
    "# plot the histograms\n",
    "plt.hist(x,bins=25, label='x')\n",
    "plt.hist(y,bins=25, label='y')\n",
    "plt.legend()\n",
    "plt.show()"
   ]
  },
  {
   "cell_type": "code",
   "execution_count": 71,
   "id": "91249cc0",
   "metadata": {},
   "outputs": [
    {
     "name": "stdout",
     "output_type": "stream",
     "text": [
      "  mean     var   stdev\n",
      "-10.00    9.98    3.16\n"
     ]
    }
   ],
   "source": [
    "# define new random variable and find mean and variance and stdev\n",
    "z = x+y\n",
    "\n",
    "print(f\"{'mean':>6s}  {'var':>6s}  {'stdev':>6s}\" )\n",
    "print(f\"{z.mean():6.2f}  {z.var():6.2f}  {z.std():6.2f}\" )\n"
   ]
  },
  {
   "cell_type": "code",
   "execution_count": 72,
   "id": "622b0e29",
   "metadata": {},
   "outputs": [
    {
     "data": {
      "text/plain": [
       "array([[ 8.99247291e+00, -2.77066166e-03],\n",
       "       [-2.77066166e-03,  9.96655521e-01]])"
      ]
     },
     "execution_count": 72,
     "metadata": {},
     "output_type": "execute_result"
    }
   ],
   "source": [
    "# compute the covariance of x and y\n",
    "# notice that the values on the diagonal are the variance of x and y\n",
    "# the values off-diagonal are the covariances\n",
    "\n",
    "np.cov(x,y)"
   ]
  },
  {
   "cell_type": "code",
   "execution_count": 73,
   "id": "f9f7b00b",
   "metadata": {},
   "outputs": [
    {
     "name": "stdout",
     "output_type": "stream",
     "text": [
      "sd   pct +/-\n",
      "-------------\n",
      "0    0.00%\n",
      "1    68.27%\n",
      "2    95.45%\n",
      "3    99.73%\n"
     ]
    }
   ],
   "source": [
    "# my feverish attempt to demonstrate the probability that numbers in a distribution\n",
    "# fall within 1, 2, 3, or 4 standard deviations of the mean\n",
    "\n",
    "from scipy.special import erf\n",
    "from math import sqrt\n",
    "\n",
    "def cdf(z):\n",
    "     return 0.5*(1 + erf(z/sqrt(2)))\n",
    "\n",
    "def compute_pct(s):\n",
    "    return cdf(s) - cdf(-s)\n",
    "\n",
    "print(\"sd   pct +/-\")\n",
    "print(\"-------------\")\n",
    "for sd in range(4):\n",
    "    print ( f\"{sd}\" + \"    \" f\"{100*compute_pct(sd):0.2f}\" + \"%\" )\n"
   ]
  }
 ],
 "metadata": {
  "kernelspec": {
   "display_name": "Python 3",
   "language": "python",
   "name": "python3"
  },
  "language_info": {
   "codemirror_mode": {
    "name": "ipython",
    "version": 3
   },
   "file_extension": ".py",
   "mimetype": "text/x-python",
   "name": "python",
   "nbconvert_exporter": "python",
   "pygments_lexer": "ipython3",
   "version": "3.8.3"
  }
 },
 "nbformat": 4,
 "nbformat_minor": 5
}
