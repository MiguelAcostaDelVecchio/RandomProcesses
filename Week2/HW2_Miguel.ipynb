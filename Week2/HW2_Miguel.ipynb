{
 "cells": [
  {
   "cell_type": "code",
   "execution_count": 27,
   "outputs": [],
   "source": [
    "# Necessary imports\n",
    "import random\n",
    "from random import randint\n",
    "import numpy as np"
   ],
   "metadata": {
    "collapsed": false,
    "pycharm": {
     "name": "#%%\n"
    }
   }
  },
  {
   "cell_type": "code",
   "execution_count": 28,
   "metadata": {
    "collapsed": true,
    "pycharm": {
     "name": "#%%\n"
    }
   },
   "outputs": [
    {
     "data": {
      "text/plain": "'\\nI have conducted an experiment as follows:\\n\\nStep 1: a pair of dice are rolled. Their sum is random variable \"x\"\\nStep 2: random variable \"y\" is decided as follows. If \"x\" is less than or equal to 5, then \"y\" is 0, 1, or 2 with equal probability. If \"x\" is greater than 5, then \"y\" is 1 or 2 with probability 0.25, or 3 with probability 0.5.\\n\\n[a] Determine theoretical computations for each of the following:\\nE(x), Var(x)\\nE(y), Var(y)\\nE(y | x>5) , Var(y | x > 5)\\nE(y | x<10), Var(y | x<10)\\nCov(x,y)\\n\\nSome of these are harder than others.\\n\\n[b] The data file hw2.npy contains 25,000 sets of data from this experiment. Load the data by typing:\\n\\ndata = np.load(\\'hw2.py\\')\\nx = data[:,0]\\ny = data[:,1]\\n\\nUse Python to compute the nine statistics above from the data. How accurate are they? Are some more accurate than others? Why?\\n\\nSubmit your responses in a single Jupyter (ipynb) file through the Canvas portal.\\n'"
     },
     "execution_count": 28,
     "metadata": {},
     "output_type": "execute_result"
    }
   ],
   "source": [
    "# Assignment\n",
    "\"\"\"\n",
    "I have conducted an experiment as follows:\n",
    "\n",
    "Step 1: a pair of dice are rolled. Their sum is random variable \"x\"\n",
    "Step 2: random variable \"y\" is decided as follows. If \"x\" is less than or equal to 5, then \"y\" is 0, 1, or 2 with equal probability. If \"x\" is greater than 5, then \"y\" is 1 or 2 with probability 0.25, or 3 with probability 0.5.\n",
    "\n",
    "[a] Determine theoretical computations for each of the following:\n",
    "E(x), Var(x)\n",
    "E(y), Var(y)\n",
    "E(y | x>5) , Var(y | x > 5)\n",
    "E(y | x<10), Var(y | x<10)\n",
    "Cov(x,y)\n",
    "\n",
    "Some of these are harder than others.\n",
    "\n",
    "[b] The data file hw2.npy contains 25,000 sets of data from this experiment. Load the data by typing:\n",
    "\n",
    "data = np.load('hw2.py')\n",
    "x = data[:,0]\n",
    "y = data[:,1]\n",
    "\n",
    "Use Python to compute the nine statistics above from the data. How accurate are they? Are some more accurate than others? Why?\n",
    "\n",
    "Submit your responses in a single Jupyter (ipynb) file through the Canvas portal.\n",
    "\"\"\""
   ]
  },
  {
   "cell_type": "code",
   "execution_count": 29,
   "outputs": [
    {
     "name": "stdout",
     "output_type": "stream",
     "text": [
      "Value of x:  5\n",
      "Value of y:  2\n"
     ]
    }
   ],
   "source": [
    "# Randint returns an integer from an inclusive uniform distribution\n",
    "xRandomProcess = randint(1,6) + randint(1,6)\n",
    "\n",
    "if xRandomProcess <= 5:\n",
    "    yRandomProcess = randint(0,2)\n",
    "elif xRandomProcess > 5:\n",
    "    yChoices = [1,2,3]\n",
    "    # the [0] helps select the element in the array\n",
    "    yRandomProcess = random.choices(yChoices,weights=(0.25,0.25,0.5))[0]\n",
    "\n",
    "print(\"Value of x: \", str(xRandomProcess))\n",
    "print(\"Value of y: \", str(yRandomProcess))"
   ],
   "metadata": {
    "collapsed": false,
    "pycharm": {
     "name": "#%%\n"
    }
   }
  },
  {
   "cell_type": "code",
   "source": [
    "# Theoretical computations\n",
    "\n",
    "# For a single dice roll:\n",
    "# E(a^2) = (1^2)*(1/6) + (2^2)*(1/6) + (3^2)*(1/6) + (4^2)*(1/6) + (5^2)*(1/6) + (6^2)*(1/6)\n",
    "# E(a^2) = 1/6 + 4/6 + 9/6 + 16/6+ 25/6 + 36/6 = 91/6 = 15.17\n",
    "# var(a) = 15.17 - 3.5^2 = 15.17 - 12.25 = 2.92\n",
    "\n",
    "# E(x) = sum(value*probabilityOfValue)\n",
    "# Expected value is the sum of each value times its probability\n",
    "# a = random.randint(1,6)\n",
    "# E(x) = 2a -> E(x) = 2*E(a)\n",
    "# E(a) = 1*(1/6) + 2*(1/6) + 3*(1/6) + 4*(1/6) + 5*(1/6) + 6*(1/6)\n",
    "# E(a) = 1/6 + 2/6 + 3/6 + 4/6 + 5/6 + 1 = 3.5\n",
    "# Therefore, E(x) = 2*3.5 = 7\n",
    "\n",
    "# var(x) = E(x^2) - E(x)^2 where E(x) = 7. So, what is E(x^2)?\n",
    "# E(x^2) = E( (a+b)^2 ) = E(a^2) + E(2ab) + E(b^2)\n",
    "# E(a^2) = (1*(1/6) + 4*(1/6) + 9*(1/6) + 16*(1/6) + 25*(1/6) + 36*(1/6))\n",
    "# E(a^2) = 91/6 = 15.16\n",
    "# E(b^2) = 91/6 = 15.16\n",
    "# E(2ab) = 2E(ab)\n",
    "\n",
    "ab_expected = [1,2,3,4,5,6,2,4,6,8,10,12,3,6,9,12,15,18,4,8,12,16,20,24,5,10,15,20,25,30,6,12,18,24,30,36]\n",
    "\n",
    "var_x = (15.16+(2*np.array(ab_expected).mean())+15.16) - 49\n",
    "print(\"Expected value of x is: 7\")\n",
    "print(\"Variance of x is:\", str(var_x))"
   ],
   "metadata": {
    "collapsed": false,
    "pycharm": {
     "name": "#%%\n"
    }
   },
   "execution_count": 30,
   "outputs": [
    {
     "name": "stdout",
     "output_type": "stream",
     "text": [
      "Expected value of x is: 7\n",
      "Variance of x is: 5.819999999999993\n"
     ]
    }
   ]
  },
  {
   "cell_type": "code",
   "execution_count": 31,
   "outputs": [],
   "source": [
    "# E(y) = sum(value*probabilityOfValue)\n",
    "# So, what are the value of y and what are their probabilities?\n",
    "# Let y be divided into 2 scenarios: scen1 and scen2\n",
    "# Calculate the probability of the values of scen1 and scen2\n",
    "# After calculating the probabilities of each value in each scenario, add\n",
    "# the probabilities of the corresponding value together.\n",
    "\n",
    "# scen1 = If x is less than or equal to 5, then y is 0, 1, or 2 with equal probability.\n",
    "# In scen1, the probabilities are as following:\n",
    "# 0 -> 1/3      1 -> 1/3        2 -> 1/3\n",
    "\n",
    "# scen2 = If x is greater than 5, then y is 1 or 2 with probability 0.25, or 3 with probability 0.5.\n",
    "# In scen2, the probabilities are as following:\n",
    "# 1 -> 1/4      2 -> 1/4        3 -> 1/2\n",
    "\n",
    "# Now, what is the probability of scen1 and scen2 occurring?\n",
    "# To figure this out, I need to find the probabilities of number 1-5 occurring and add them together to get scen1 prob.\n",
    "# The probability for scen2 should be 1 - probability(scen1)\n",
    "# So, in xRandomProcess, what is solution_space?\n",
    "\n",
    "# 1-1, 1-2, 1-3, 1-4, 1-5, 1-6\n",
    "# 2-1, 2-2, 2-3, 2-4, 2-5, 2-6\n",
    "# 3-1, 3-2, 3-3, 3-4, 3-5, 3-6\n",
    "# 4-1, 4-2, 4-3, 4-4, 4-5, 4-6\n",
    "# 5-1, 5-2, 5-3, 5-4, 5-5, 5-6\n",
    "# 6-1, 6-2, 6-3, 6-4, 6-5, 6-6\n",
    "\n",
    "# prob(1) = 0\n",
    "# prob(2) = 1/36\n",
    "# prob(3) = 2/36\n",
    "# prob(4) = 3/36\n",
    "# prob(5) = 4/36\n",
    "# prob(6) = 5/36\n",
    "# prob(7) = 6/36\n",
    "# prob(8) = 5/36\n",
    "# prob(9) = 4/36\n",
    "# prob(10) = 3/36\n",
    "# prob(11) = 2/36\n",
    "# prob(12) = 1/36\n",
    "\n",
    "#x = 1+2+3+4+5+6+5+4+3+2+1\n",
    "#print(x)\n",
    "\n",
    "# scen1 = prob(1) + prob(2) + prob(3) + prob(4) + prob(5)\n",
    "# scen1 = 0 + 1/36 + 2/36 + 3/36 + 4/36 = 10/36 = 27.8%\n",
    "# Therefore, the probability of scen2 = 1-0.27777 = 72.2%\n",
    "# It is now necessary to normalize the value percentages of each scenario to reflect on yRandomProcess\n",
    "\n",
    "# For the values of scen1:\n",
    "# 0 -> 1/3 * 10/36 = 0.0926 = 9.26%\n",
    "# 1 -> 1/3 * 10/36 = 0.0926 = 9.26%\n",
    "# 2 -> 1/3 * 10/36 = 0.0926 = 9.26%\n",
    "\n",
    "# For the values of scen2:\n",
    "# 1 -> 1/4 * 26/36 = 18%\n",
    "# 2 -> 1/4 * 26/36 = 18%\n",
    "# 3 -> 1/2 * 26/36 = 36%\n",
    "\n",
    "# Adding together the probabilities of each valued\n",
    "# 0 -> 9.26%\n",
    "# 1 -> 9.26 + 18 = 27.26%\n",
    "# 2 -> 9.26 + 18 = 27.26%\n",
    "# 3 -> 36%\n",
    "\n",
    "# Now, lets calculate the expected value of yRandomProcess\n",
    "# E(y) = 0*9.26% + 1*27.26% + 2*27.26% + 3*36% = 1.9\n",
    "\n",
    "# var(y) = E(y^2) - E(y)^2\n",
    "# Based on the formula shown above, what is E(y^2)?\n",
    "# E(y^2) = 0 + 0.2726 + 4*0.2726 + 9*0.36 = 4.6\n",
    "# var(y) = 4.6 - 1.9^2 = 1\n",
    "\n",
    "# Based on the results obtained above, E(y) = 1.9 and var(y) = 1"
   ],
   "metadata": {
    "collapsed": false,
    "pycharm": {
     "name": "#%%\n"
    }
   }
  },
  {
   "cell_type": "code",
   "execution_count": 32,
   "outputs": [],
   "source": [
    "# E(y | x>5) , Var(y | x > 5)\n",
    "# Given x>5, the probability of scen2 is 100%, therefore the probability of the resulting values of yRandomProcess match the probabilities of the values in scen2\n",
    "\n",
    "# For the values of E(y | x>5):\n",
    "# 1 -> 25%\n",
    "# 2 -> 25%\n",
    "# 3 -> 50%\n",
    "\n",
    "# Based on the results above, E(y | x>5) = 1*0.25 + 2*0.25 + 3*0.5 = 0.25 + 0.5 + 1.5\n",
    "# E(y | x>5) = 2.25\n",
    "\n",
    "# var(y | x>5) = E(y^2 | x>5) - E(y | x>5)^2\n",
    "# So, let us find E(y^2 | x>5) = 0.25 + 1 + 4.5 = 5.75\n",
    "# var(y | x>5) = 5.75 - 2.25^2 = 0.6875\n",
    "\n",
    "# Therefore, E(y | x>5) = 2.25 and var(y | x>5) = 0.6875"
   ],
   "metadata": {
    "collapsed": false,
    "pycharm": {
     "name": "#%%\n"
    }
   }
  },
  {
   "cell_type": "code",
   "execution_count": 33,
   "outputs": [],
   "source": [
    "# E(y | x<10), Var(y | x<10)\n",
    "# Given x < 10, the probabilities of scen1 and scen2 have changed and must be recalculated.\n",
    "\n",
    "# 1-1, 1-2, 1-3, 1-4, 1-5, 1-6\n",
    "# 2-1, 2-2, 2-3, 2-4, 2-5, 2-6\n",
    "# 3-1, 3-2, 3-3, 3-4, 3-5, 3-6\n",
    "# 4-1, 4-2, 4-3, 4-4, 4-5\n",
    "# 5-1, 5-2, 5-3, 5-4\n",
    "# 6-1, 6-2, 6-3\n",
    "\n",
    "# prob(1) = 0\n",
    "# prob(2) = 1/30\n",
    "# prob(3) = 2/30\n",
    "# prob(4) = 3/30\n",
    "# prob(5) = 4/30\n",
    "# prob(6) = 5/30\n",
    "# prob(7) = 6/30\n",
    "# prob(8) = 5/30\n",
    "# prob(9) = 4/30\n",
    "\n",
    "# scen1 = prob(1) + prob(2) + prob(3) + prob(4) + prob(5)\n",
    "# scen1 = 0 + 1/30 + 2/30 + 3/30 + 4/30 = 10/30 = 33.3%\n",
    "# Therefore, the probability of scen2 = 1-0.333 = 66.6%\n",
    "# It is now necessary to normalize the value percentages of each scenario to reflect on E(y | X<10)\n",
    "\n",
    "# For the values of scen1:\n",
    "# 0 -> 1/3 * 1/3 = 11.1%\n",
    "# 1 -> 1/3 * 1/3 = 11.1%\n",
    "# 2 -> 1/3 * 1/3 = 11.1%\n",
    "\n",
    "# For the values of scen2:\n",
    "# 1 -> 1/4 * 2/3 = 16.7%\n",
    "# 2 -> 1/4 * 2/3 = 16.7%\n",
    "# 3 -> 1/2 * 2/3 = 33.3%\n",
    "\n",
    "# Adding together the probabilities of each valued\n",
    "# 0 -> 11.1%\n",
    "# 1 -> 11.1 + 16.7 = 27.8%\n",
    "# 2 -> 11.1 + 16.7 = 27.8%\n",
    "# 3 -> 33.3%\n",
    "\n",
    "# Now, lets calculate E(y | x<10)\n",
    "# E(y | x<10) = 0*11.1% + 1*27.8% + 2*27.8% + 3*33.3% = 0.834 + 1 = 1.834\n",
    "\n",
    "# var(y | x<10) = E(y^2 | x<10) - E(y | x<10)^2\n",
    "# Based on the formula shown above, what is E(y^2 | x<10)?\n",
    "# E(y^2) = 0 + 0.2726 + 4*0.278 + 9*0.333 = 1.112 + 3 = 4.112\n",
    "# var(y | x<10) = 4.112\n",
    "\n",
    "# So, E(y | x<10) = 1.834 and var(y | x<10) = 4.112"
   ],
   "metadata": {
    "collapsed": false,
    "pycharm": {
     "name": "#%%\n"
    }
   }
  },
  {
   "cell_type": "code",
   "execution_count": 34,
   "outputs": [
    {
     "name": "stdout",
     "output_type": "stream",
     "text": [
      "Cov(xy) is:  -1.299999999999999\n"
     ]
    }
   ],
   "source": [
    "# Cov(x,y)\n",
    "# cov(x,y) = E(xy) - E(x)E(y)\n",
    "# E(x) and E(y) are already known... What is E(xy)?\n",
    "\n",
    "# outcome table\n",
    "\"\"\"\n",
    "    $$$     1       2       3\n",
    "    1       1       2       3\n",
    "    2       2       4       6\n",
    "    3       3       6       9\n",
    "    4       4       8       12\n",
    "    5       5       10      15\n",
    "    6       6       12      18\n",
    "    7       7       14      21\n",
    "    8       8       16      24\n",
    "    9       9       18      27\n",
    "    10      10      20      30\n",
    "    11      11      22      33\n",
    "\"\"\"\n",
    "\n",
    "xy_array = [1,2,3,2,4,6,3,6,9,4,8,12,5,10,15,6,12,18,7,14,21,8,16,24,9,18,27,10,20,30,\n",
    "            11,22,33]\n",
    "xy_expected = np.array(xy_array).mean()\n",
    "cov_xy = xy_expected - (7*1.9)\n",
    "print(\"Cov(x,y) is: \", str(cov_xy))\n"
   ],
   "metadata": {
    "collapsed": false,
    "pycharm": {
     "name": "#%%\n"
    }
   }
  },
  {
   "cell_type": "code",
   "execution_count": 35,
   "outputs": [
    {
     "name": "stdout",
     "output_type": "stream",
     "text": [
      "Computations of E(x) and Var(x):\n",
      "\tThe theoretical expected value of x is: 7\n",
      "\tThe simulated expected value of x is: 7.00524\n",
      "\tThe theoretical variance of x is: 5.819999999999993\n",
      "\tThe simulated variance of x is: 5.8499325423999995\n",
      "\n",
      "Computations of E(y) and Var(y):\n",
      "\tThe theoretical expected value of y is: 1.9\n",
      "\tThe simulated expected value of y is: 1.90912\n",
      "\tThe theoretical variance of y is: 1\n",
      "\tThe simulated variance of y is: 0.9950208255999998\n",
      "\n",
      "Computations of E(y | x>5) and Var(y | x>5):\n",
      "\tThe theoretical expected value of y | x>5 is: 2.25\n",
      "\tThe simulated expected value of y | x>5 is: 2.253462833176977\n",
      "\tThe theoretical variance of y | x>5 is: 0.6875\n",
      "\tThe simulated variance of y | x>5 is: 0.6895229406334168\n"
     ]
    }
   ],
   "source": [
    "# Loading the data\n",
    "data = np.load('hw2_given_data.npy')\n",
    "x = data[:,0]\n",
    "y = data[:,1]\n",
    "\n",
    "# Printing to see the data structure\n",
    "#print(x[0:50])\n",
    "#print(y[0:50])\n",
    "\n",
    "print(\"Computations of E(x) and Var(x):\")\n",
    "print(\"\\tThe theoretical expected value of x is: 7\")\n",
    "print(\"\\tThe simulated expected value of x is:\", str(np.mean(x)))\n",
    "print(\"\\tThe theoretical variance of x is:\", var_x)\n",
    "print(\"\\tThe simulated variance of x is:\", str(np.var(x)))\n",
    "# The expected value of x matches the theoretical results, but the variance does not. I know however that the theoretical variance is twice the simulated so I probably did some math wrong but I cant figure out what I did wrong.\n",
    "\n",
    "print(\"\\nComputations of E(y) and Var(y):\")\n",
    "print(\"\\tThe theoretical expected value of y is: 1.9\")\n",
    "print(\"\\tThe simulated expected value of y is:\", str(np.mean(y)))\n",
    "print(\"\\tThe theoretical variance of y is: 1\")\n",
    "print(\"\\tThe simulated variance of y is:\", str(np.var(y)))\n",
    "# The expected value and variance of y match the theoretical results\n",
    "\n",
    "# E(y | x>5) , Var(y | x > 5)\n",
    "# Take out all values of y which correspond to x less than 5\n",
    "y1 = np.array([])\n",
    "for i in range(0,len(x)):\n",
    "    if x[i] > 5:\n",
    "        y1 = np.append(y1,y[i])\n",
    "#print(y1[0:50])\n",
    "print(\"\\nComputations of E(y | x>5) and Var(y | x>5):\")\n",
    "print(\"\\tThe theoretical expected value of y | x>5 is: 2.25\")\n",
    "print(\"\\tThe simulated expected value of y | x>5 is:\", str(np.mean(y1)))\n",
    "print(\"\\tThe theoretical variance of y | x>5 is: 0.6875\")\n",
    "print(\"\\tThe simulated variance of y | x>5 is:\", str(np.var(y1)))\n",
    "# The expected value and variance of y1 match the theoretical results"
   ],
   "metadata": {
    "collapsed": false,
    "pycharm": {
     "name": "#%%\n"
    }
   }
  },
  {
   "cell_type": "code",
   "execution_count": 36,
   "outputs": [
    {
     "name": "stdout",
     "output_type": "stream",
     "text": [
      "\n",
      "Computations of E(y | x<10) and Var(y | x<10):\n",
      "\tThe theoretical expected value of y | x<10 is: 1.834\n",
      "\tThe simulated expected value of y | x<10 is: 1.8399750336086038\n",
      "\tThe theoretical variance of y | x<10 is: 4.112\n",
      "\tThe simulated variance of y | x<10 is: 1.0281177639244032\n"
     ]
    }
   ],
   "source": [
    "# E(y | x<10) , Var(y | x<10)\n",
    "# Take out all values of y which correspond to x less than 5\n",
    "y2 = np.array([])\n",
    "for i in range(0,len(x)):\n",
    "    if x[i] < 10:\n",
    "        y2 = np.append(y2,y[i])\n",
    "#print(y1[0:50])\n",
    "print(\"\\nComputations of E(y | x<10) and Var(y | x<10):\")\n",
    "print(\"\\tThe theoretical expected value of y | x<10 is: 1.834\")\n",
    "print(\"\\tThe simulated expected value of y | x<10 is:\", str(np.mean(y2)))\n",
    "print(\"\\tThe theoretical variance of y | x<10 is: 4.112\")\n",
    "print(\"\\tThe simulated variance of y | x<10 is:\", str(np.var(y2)))\n",
    "# The simulated expected value of y2 matches the theoretical results but the variance does not. Theoretical variance is 4 times the simulated variance. I probably did some math wrong but cant figure out where."
   ],
   "metadata": {
    "collapsed": false,
    "pycharm": {
     "name": "#%%\n"
    }
   }
  },
  {
   "cell_type": "code",
   "execution_count": 37,
   "outputs": [
    {
     "name": "stdout",
     "output_type": "stream",
     "text": [
      "\n",
      "Computations of cov(x,y):\n",
      "\tThe theoretical covariance is: -1.299999999999999\n",
      "\tThe simulated covariance is: [[5.85016655 1.04439799]\n",
      " [1.04439799 0.99506063]]\n"
     ]
    }
   ],
   "source": [
    "# Do the covariance simulation and comparison here...\n",
    "np.cov(x,y)\n",
    "print(\"\\nComputations of cov(x,y):\")\n",
    "print(\"\\tThe theoretical covariance is:\", str(cov_xy))\n",
    "print(\"\\tThe simulated covariance is:\", str(np.cov(x,y)))\n",
    "\n",
    "# What is broken as of right now:\n",
    "#   var(y | x<10)\n",
    "#   Figure out the covariance stuff\n",
    "\n",
    "# 2 Questions for Dr. Obeid:\n",
    "# 1) Theoretical variance of y|x<10 is 4 times the simulated variance. I cant figure out where the error is.\n",
    "# 2) I am having problems doing the theoretical aspect of the covariance. More specifically, how do I solve E(xy)? Not sure where to start...\n",
    "\n",
    "# Accuracy questions... The first simulated results are more accurate than the conditional simulated results due to the higher number of trials. This is like a Monte Carlo simulation, the more trials there are, the closer the simulated results will get to the theoretical value. The difference here is that as number of trials->infinity, mean converges to expected value (the same goes for the variance).\n",
    "\n"
   ],
   "metadata": {
    "collapsed": false,
    "pycharm": {
     "name": "#%%\n"
    }
   }
  }
 ],
 "metadata": {
  "kernelspec": {
   "display_name": "Python 3",
   "language": "python",
   "name": "python3"
  },
  "language_info": {
   "codemirror_mode": {
    "name": "ipython",
    "version": 2
   },
   "file_extension": ".py",
   "mimetype": "text/x-python",
   "name": "python",
   "nbconvert_exporter": "python",
   "pygments_lexer": "ipython2",
   "version": "2.7.6"
  }
 },
 "nbformat": 4,
 "nbformat_minor": 0
}