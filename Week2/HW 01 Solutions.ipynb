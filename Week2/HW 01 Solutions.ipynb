{
 "cells": [
  {
   "cell_type": "markdown",
   "id": "25c2cbfa",
   "metadata": {},
   "source": [
    "## Part 1\n",
    "If $p=0.65$ and $N=7$ then the expectation and variance for the number of wins are given by\n",
    "\n",
    "$$E(w) = N\\cdot p = 4.55$$\n",
    "\n",
    "and\n",
    "\n",
    "$$Var(w) = Np(1-p) = 1.59$$\n",
    "\n",
    "The PMF for winning $k$ games out of $N$ is given by the binomial distribution\n",
    "\n",
    "$$pr(k) = \\binom{N}{k} p^k(1-p)^{(N-k)}$$\n",
    "\n",
    "$$ = \\frac{N!}{k!(N - k)!}p^k(1-p)^{(N-k)}$$\n",
    "\n",
    "For our particular values, we get the following PMF\n",
    "\n",
    "<table>\n",
    "    <tr>\n",
    "        <th>k</th>\n",
    "        <td>0</td>\n",
    "        <td>1</td>\n",
    "        <td>2</td>\n",
    "        <td>3</td>\n",
    "        <td>4</td>\n",
    "        <td>5</td>\n",
    "        <td>6</td>\n",
    "        <td>7</td>\n",
    "    </tr>\n",
    "    <tr>\n",
    "        <th>pr(k)</th>\n",
    "        <td>0.0006</td>\n",
    "        <td>0.0084</td>\n",
    "        <td>0.0466</td>\n",
    "        <td>0.1442</td>\n",
    "        <td>0.2679</td>\n",
    "        <td>0.2985</td>\n",
    "        <td>0.1848</td>\n",
    "        <td>0.049</td>\n",
    "    </tr>\n",
    "</table>\n",
    "\n",
    "\n"
   ]
  },
  {
   "cell_type": "code",
   "execution_count": 1,
   "id": "adc76854",
   "metadata": {},
   "outputs": [],
   "source": [
    "import numpy as np\n",
    "import matplotlib.pyplot as plt\n",
    "import scipy.stats as stats"
   ]
  },
  {
   "cell_type": "code",
   "execution_count": 2,
   "id": "b04de2f0",
   "metadata": {},
   "outputs": [
    {
     "name": "stdout",
     "output_type": "stream",
     "text": [
      "Expected value simulated   = 4.547\n",
      "               theoretical = 4.550\n",
      "\n",
      "Variance       simulated   = 1.593\n",
      "               theoretical = 1.592\n",
      "\n",
      "PMF\n",
      "  k     sim     theoretical\n",
      "---------------------------\n",
      "  0\t0.001\t0.001\n",
      "  1\t0.008\t0.008\n",
      "  2\t0.047\t0.047\n",
      "  3\t0.144\t0.144\n",
      "  4\t0.269\t0.268\n",
      "  5\t0.298\t0.298\n",
      "  6\t0.184\t0.185\n",
      "  7\t0.049\t0.049\n"
     ]
    }
   ],
   "source": [
    "# Simulate the seven-game series\n",
    "\n",
    "# define constants\n",
    "nTrials = int(1e6)\n",
    "N , p = 7 , 0.65\n",
    "\n",
    "# do the actual simulation\n",
    "nWins = stats.binom(n=N,p=p).rvs(nTrials)\n",
    "\n",
    "# count the frequency of each number of wins ...\n",
    "wins,counts = np.unique(nWins , return_counts=True)\n",
    "\n",
    "# ... and convert into percentages\n",
    "pct = counts/nTrials\n",
    "\n",
    "# print results\n",
    "print(\"Expected value simulated   = \" + f\"{nWins.mean():0.3f}\")\n",
    "print(\"               theoretical = \" + f\"{N*p:0.3f}\" )\n",
    "\n",
    "print(\"\")\n",
    "\n",
    "print(\"Variance       simulated   = \" + f\"{nWins.var():0.3f}\")\n",
    "print(\"               theoretical = \" + f\"{N*p*(1-p):0.3f}\" )\n",
    "\n",
    "print(\"\")\n",
    "\n",
    "print(\"PMF\")\n",
    "print(\"  k     sim     theoretical\")\n",
    "print(\"---------------------------\")\n",
    "for k in range(8):\n",
    "    print(\n",
    "        f\"{k:3d}\" + \"\\t\" + \n",
    "        f\"{pct[k]:0.3f}\" + \"\\t\" +\n",
    "        f\"{stats.binom(n=N,p=p).pmf(k):0.3f}\"\n",
    "    )\n"
   ]
  },
  {
   "cell_type": "markdown",
   "id": "0d9667b2",
   "metadata": {},
   "source": [
    "## Part 2\n",
    "The probability of winning the series is the probability of winning four or more games. Numerically:\n",
    "\n",
    "$$pr(win) = \\sum_4^7 \\binom{N}{k} p^k(1-p)^{(N-k)}$$\n",
    "\n",
    "We can compute this value using a loop:"
   ]
  },
  {
   "cell_type": "code",
   "execution_count": 3,
   "id": "5ae3c623",
   "metadata": {},
   "outputs": [],
   "source": [
    "pr_win_theoretical = 0\n",
    "for k in range(4,8):\n",
    "    pr_win_theoretical += stats.binom(n=N,p=p).pmf(k)"
   ]
  },
  {
   "cell_type": "markdown",
   "id": "4735666f",
   "metadata": {},
   "source": [
    "We can use our earlier simulation to determine the simulated probability:"
   ]
  },
  {
   "cell_type": "code",
   "execution_count": 4,
   "id": "9f7aa8dc",
   "metadata": {},
   "outputs": [],
   "source": [
    "pr_win_simulated = np.count_nonzero(nWins>=4) / nTrials"
   ]
  },
  {
   "cell_type": "markdown",
   "id": "ddd1dcb9",
   "metadata": {},
   "source": [
    "And finally we can print the results:"
   ]
  },
  {
   "cell_type": "code",
   "execution_count": 5,
   "id": "5fa2dfe0",
   "metadata": {},
   "outputs": [
    {
     "name": "stdout",
     "output_type": "stream",
     "text": [
      "Likelihood of winning series theoretical 0.800\n",
      "                             simulated   0.800\n"
     ]
    }
   ],
   "source": [
    "print(\"Likelihood of winning series theoretical \" + f\"{pr_win_theoretical:0.3f}\")\n",
    "print(\"                             simulated   \" + f\"{pr_win_simulated:0.3f}\")"
   ]
  },
  {
   "cell_type": "markdown",
   "id": "266fe858",
   "metadata": {},
   "source": [
    "## Part 3\n",
    "Find the PMF for the number of consecutive heads in a six-coin-flip sequence\n",
    "\n",
    "I started by defining a helper function that will return the number of consecutive heads:"
   ]
  },
  {
   "cell_type": "code",
   "execution_count": 6,
   "id": "ad46742e",
   "metadata": {},
   "outputs": [],
   "source": [
    "# count the biggest number of consecutive ones \n",
    "# in the sequence\n",
    "nFlips = 6\n",
    "\n",
    "def count_repeats(x):\n",
    "    # there is a less ugly way to do this but this is straightforward\n",
    "    y = np.zeros( x.shape )\n",
    "    y[0] = x[0]\n",
    "    for i in range (1,nFlips):\n",
    "        if x[i]==1:\n",
    "            y[i] = y[i-1] + 1\n",
    "    return y.max()"
   ]
  },
  {
   "cell_type": "markdown",
   "id": "e6f3b744",
   "metadata": {},
   "source": [
    "Determine the theoretical PMF by cycling through all $2^6$ combinations of heads and tails and counting the number of consecutive heads in each case. Then look to see how many times each count occurs."
   ]
  },
  {
   "cell_type": "code",
   "execution_count": 7,
   "id": "212c35f6",
   "metadata": {},
   "outputs": [],
   "source": [
    "# compute theoretical PMF\n",
    "# generate all equally-likely 64 outcomes\n",
    "# count the frequency of occurrences of duplicates\n",
    "# \n",
    "# alternatively you can do this by hand\n",
    "\n",
    "y = []\n",
    "for i in range(64):\n",
    "    # generate all 64 combinations of 1's and 0's\n",
    "    x = np.array([\n",
    "        (i//32)%2,\n",
    "        (i//16)%2,\n",
    "        (i//8)%2,\n",
    "        (i//4)%2,\n",
    "        (i//2)%2,\n",
    "        (i//1)%2\n",
    "    ])\n",
    "    \n",
    "    # for each combination, count the max number\n",
    "    # of consecutive ones\n",
    "    y.append ( count_repeats(x) )\n",
    "\n",
    "# y is 64 elements long and contains the max number of consecutive 1's in each\n",
    "# of the input combinations\n",
    "\n",
    "# convert to numpy array\n",
    "y    = np.array(y)\n",
    "\n",
    "# count the frequency of each number\n",
    "vals = np.arange(nFlips+1)\n",
    "cnt  = [np.count_nonzero(y==i) for i in range(nFlips+1)]\n",
    "\n",
    "# normalize to get the probabilities for the PMF\n",
    "theoretical = np.array(cnt) / 64\n"
   ]
  },
  {
   "cell_type": "markdown",
   "id": "364b4114",
   "metadata": {},
   "source": [
    "Now conduct the actual simulation. Each single coin flip is a \"Bernoulli\" random variable."
   ]
  },
  {
   "cell_type": "code",
   "execution_count": 8,
   "id": "53236316",
   "metadata": {},
   "outputs": [
    {
     "name": "stdout",
     "output_type": "stream",
     "text": [
      "PMF\n",
      "  k     sim     theoretical\n",
      "---------------------------\n",
      "  0\t0.015\t0.016\n",
      "  1\t0.313\t0.312\n",
      "  2\t0.359\t0.359\n",
      "  3\t0.188\t0.188\n",
      "  4\t0.079\t0.078\n",
      "  5\t0.031\t0.031\n",
      "  6\t0.015\t0.016\n"
     ]
    }
   ],
   "source": [
    "# count duplicate adjacent Heads in a six-flip experiment\n",
    "\n",
    "nTrials = int(1e5)\n",
    "\n",
    "# create a 2D matrix of coin flips: nTrials rows x nFlips (6) columns\n",
    "process = stats.bernoulli(p=0.5)\n",
    "values  = process.rvs( (nTrials,nFlips) )\n",
    "\n",
    "# count the number of consecutives (duplicates) in each of the nTrials rows\n",
    "nDuplicates = [ count_repeats(values[i,]) for i in range(nTrials) ]\n",
    "nDuplicates = np.array(nDuplicates)\n",
    "\n",
    "# compute the frequency of occurrence for each of the nTrials \"counts\"\n",
    "vals = np.arange(nFlips+1)\n",
    "cnt  = np.array([np.count_nonzero(nDuplicates==i) for i in range(nFlips+1)])\n",
    "\n",
    "# normalize (to get percents)\n",
    "cnt = cnt / nTrials\n",
    "\n",
    "# print results\n",
    "\n",
    "print(\"PMF\")\n",
    "print(\"  k     sim     theoretical\")\n",
    "print(\"---------------------------\")\n",
    "for k in range(nFlips+1):\n",
    "    print(\n",
    "        f\"{k:3d}\" + \"\\t\" + \n",
    "        f\"{cnt[k]:0.3f}\" + \"\\t\" + \n",
    "        f\"{theoretical[k]:0.3f}\"\n",
    "    )\n"
   ]
  }
 ],
 "metadata": {
  "kernelspec": {
   "display_name": "Python 3",
   "language": "python",
   "name": "python3"
  },
  "language_info": {
   "codemirror_mode": {
    "name": "ipython",
    "version": 3
   },
   "file_extension": ".py",
   "mimetype": "text/x-python",
   "name": "python",
   "nbconvert_exporter": "python",
   "pygments_lexer": "ipython3",
   "version": "3.8.3"
  }
 },
 "nbformat": 4,
 "nbformat_minor": 5
}
