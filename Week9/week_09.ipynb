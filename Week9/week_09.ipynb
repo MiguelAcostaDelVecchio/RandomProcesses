{
 "cells": [
  {
   "cell_type": "code",
   "execution_count": 1,
   "id": "41286d80",
   "metadata": {},
   "outputs": [],
   "source": [
    "import numpy as np\n",
    "import scipy.stats as stats"
   ]
  },
  {
   "cell_type": "code",
   "execution_count": 22,
   "id": "ec82b9d8",
   "metadata": {},
   "outputs": [
    {
     "name": "stdout",
     "output_type": "stream",
     "text": [
      "k \t Cheb> \t norm\tunif\tpois\texpn\n",
      "1.0 \t0.00\t0.68\t0.58\t0.55\t0.86\n",
      "1.5 \t0.56\t0.87\t0.87\t0.92\t0.92\n",
      "2.0 \t0.75\t0.95\t1.00\t0.98\t0.95\n",
      "2.5 \t0.84\t0.99\t1.00\t0.98\t0.97\n",
      "3.0 \t0.89\t1.00\t1.00\t1.00\t0.98\n"
     ]
    }
   ],
   "source": [
    "# compute probability of green zone\n",
    "# prob ( -k sig < x < k sig )\n",
    "\n",
    "TB = \"\\t\"\n",
    "\n",
    "# print header row\n",
    "print(\"k\" , TB , \"Cheb>\" , TB , \"norm\" + TB + \"unif\" + TB + \"pois\" + TB + \"expn\")\n",
    "\n",
    "# define distributions\n",
    "nn = stats.norm(loc=0,scale=1)\n",
    "uu = stats.uniform(loc=0,scale=1)\n",
    "pp = stats.poisson(mu=1)\n",
    "ee = stats.expon(scale=1)\n",
    "\n",
    "def compute_intg(dd,k):\n",
    "    m = dd.mean()\n",
    "    s = dd.std()\n",
    "    return dd.cdf(m+k*s) - dd.cdf(m-k*s)\n",
    "\n",
    "# compute probabilities\n",
    "for k in [1,1.5,2,2.5,3]:\n",
    "\n",
    "    cheby = 1 - 1/(k*k)\n",
    "    intg_nn = compute_intg(nn,k)\n",
    "    intg_uu = compute_intg(uu,k)\n",
    "    intg_pp = compute_intg(pp,k)\n",
    "    intg_ee = compute_intg(ee,k)\n",
    "\n",
    "    print(f\"{k:0.1f}\",\n",
    "          TB + f\"{cheby:0.2f}\"   + \n",
    "          TB + f\"{intg_nn:0.2f}\" + \n",
    "          TB + f\"{intg_uu:0.2f}\" + \n",
    "          TB + f\"{intg_pp:0.2f}\" +\n",
    "          TB + f\"{intg_ee:0.2f}\" )\n",
    "    \n",
    "## In each case, Cheby gives a reliable lower bound for the probability of being within k standard deviations of the\n",
    "## mean."
   ]
  },
  {
   "cell_type": "code",
   "execution_count": 56,
   "id": "35dc1629",
   "metadata": {},
   "outputs": [
    {
     "name": "stdout",
     "output_type": "stream",
     "text": [
      "Likelihood of observing 3, 1, and 3 ice creams is: 0.02856\n"
     ]
    }
   ],
   "source": [
    "# manually simulate a hidden markov model\n",
    "# state 0 is \"hot day\"\n",
    "# state 1 is \"cold day\"\n",
    "\n",
    "# transition matrix\n",
    "A = np.array([[0.6,0.5],[0.4,0.5]])\n",
    "\n",
    "# emission matrix (probability of observations for each state)\n",
    "# note that 1 ice cream is \"observation #0\", 2 ice creams is \"observation #1\" and 3 ice creams is \"observation #2\"\n",
    "b = np.array([[0.2,0.4,0.4],[0.5,0.4,0.1]])\n",
    "\n",
    "# assume we observed 3, then 1, then 3\n",
    "\n",
    "# probability of observations on each day\n",
    "pr_obs_day_1 = b[:,2]   # day 1 was a 3-ice cream day (observation #2)\n",
    "pr_obs_day_2 = b[:,0]   # day 2 was a 1-ice cream day (observation #0)\n",
    "pr_obs_day_3 = b[:,2]   # day 3 was a 3-ice cream day (observation #2)\n",
    "\n",
    "init_probabilities = np.array([0.8,0.2])\n",
    "\n",
    "weather_likelihood_day_1   = init_probabilities\n",
    "ice_cream_likelihood_day_1 = np.multiply( weather_likelihood_day_1 , pr_obs_day_1 )\n",
    "\n",
    "weather_likelihood_day_2   = A @ ice_cream_likelihood_day_1\n",
    "ice_cream_likelihood_day_2 = np.multiply( weather_likelihood_day_2 , pr_obs_day_2 )\n",
    "\n",
    "weather_likelihood_day_3   = A @ ice_cream_likelihood_day_2\n",
    "ice_cream_likelihood_day_3 = np.multiply( weather_likelihood_day_3 , pr_obs_day_3 )\n",
    "\n",
    "# Each day includes \"history\", meaning summed probability of observations on all prior days\n",
    "\n",
    "# The total probability of the observed sequence can be found by adding the probabilites at the end of day 3\n",
    "print(\n",
    "    \"Likelihood of observing 3, 1, and 3 ice creams is: \" + \n",
    "    f\"{ice_cream_likelihood_day_3.sum():0.5f}\")"
   ]
  }
 ],
 "metadata": {
  "kernelspec": {
   "display_name": "Python 3 (ipykernel)",
   "language": "python",
   "name": "python3"
  },
  "language_info": {
   "codemirror_mode": {
    "name": "ipython",
    "version": 3
   },
   "file_extension": ".py",
   "mimetype": "text/x-python",
   "name": "python",
   "nbconvert_exporter": "python",
   "pygments_lexer": "ipython3",
   "version": "3.9.12"
  }
 },
 "nbformat": 4,
 "nbformat_minor": 5
}
