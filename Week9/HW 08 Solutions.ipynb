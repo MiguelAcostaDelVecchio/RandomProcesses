{
 "cells": [
  {
   "cell_type": "markdown",
   "id": "1f1e1c5a",
   "metadata": {},
   "source": [
    "#### Problem 1:\n",
    "A stock share in the company Temple Inc. has a price Yn on the nth business day of the year. You observe that the price change Xn = Yn+1 − Yn appears to be a random variable with mean 0 and variance 1/4. If Y1 = 30, find a lower bound for the following probabilities (under the assumption that the Xn’s are mutually independent)\n",
    "\n",
    "(a) $Pr(25 < Y_2 < 35)$\n",
    "\n",
    "(b) $Pr(25 < Y_{11} < 35)$\n",
    "\n",
    "(c) $Pr(25 < Y_{101} < 35)$"
   ]
  },
  {
   "cell_type": "markdown",
   "id": "11c024c7",
   "metadata": {},
   "source": [
    "Let total change in stock price after $n$ days be a random variable $C_n$ such that:\n",
    "\n",
    "$$C_n = \\sum_1^n X_n$$\n",
    "\n",
    "$$E(C_n) = 0$$\n",
    "\n",
    "$$Var(C_n) = n/4$$\n",
    "\n",
    "$$Std(C_n) = \\sqrt{n}\\ /\\ 2$$\n",
    "\n",
    "$$Y_n = 30 + C_n$$\n",
    "\n",
    "\n",
    "$$Pr(25 < Y_2 < 35)  = Pr(-5 < C_1 < 5) = Pr(-10\\sigma < C_1 < 10\\sigma) > 1 - \\frac{1}{100}\\ =\\ 0.99$$\n",
    "\n",
    "$$Pr(25 < Y_11 < 35)\\ =\\ Pr(-5 < C_{10} < 5)\\ =\\ Pr(-5/\\sqrt{2.5}\\ \\sigma < X_1 < 5/\\sqrt{2.5}\\ \\sigma)\\ >\\ 1 - \\frac{1}{2.5}\\ =\\ 0.6$$\n",
    "\n",
    "$$Pr(25 < Y_101 < 35) = Pr(-5 < C_{100} < 5) = Pr(-1\\sigma < X_1 < 1\\sigma) > 1 - \\frac{1}{1}\\ =\\ 0$$"
   ]
  },
  {
   "cell_type": "markdown",
   "id": "b161d9cd",
   "metadata": {},
   "source": [
    "#### Problem 2: \n",
    "Repeat Problem 1 but assume that the price changes are Normally distributed (using the same mean and variance: 0 and 1/4, respectively)"
   ]
  },
  {
   "cell_type": "markdown",
   "id": "30bbef11",
   "metadata": {},
   "source": [
    "Same random variable $C_n$ with $E(C_n) = 0$ and $std(C_n) = \\sqrt{n}\\ /\\ 2$. Just integrate the normal distribution to get the probabilities:"
   ]
  },
  {
   "cell_type": "code",
   "execution_count": 8,
   "id": "e63b80a4",
   "metadata": {},
   "outputs": [],
   "source": [
    "import numpy as np\n",
    "import scipy.stats as stats"
   ]
  },
  {
   "cell_type": "code",
   "execution_count": 7,
   "id": "302a8a3d",
   "metadata": {},
   "outputs": [
    {
     "name": "stdout",
     "output_type": "stream",
     "text": [
      "part [a]:\t1.000\n",
      "part [b]:\t0.998\n",
      "part [c]:\t0.683\n"
     ]
    }
   ],
   "source": [
    "def std(n):\n",
    "    return np.sqrt(n)/2\n",
    "TB = \"\\t\"\n",
    "\n",
    "# a\n",
    "nn = stats.norm(loc=0,scale=std(1))\n",
    "intg = nn.cdf(5) - nn.cdf(-5)\n",
    "print(\"part [a]:\" + TB + f\"{intg:0.3f}\")\n",
    "\n",
    "# b\n",
    "nn = stats.norm(loc=0,scale=std(10))\n",
    "intg = nn.cdf(5) - nn.cdf(-5)\n",
    "print(\"part [b]:\" + TB + f\"{intg:0.3f}\")\n",
    "\n",
    "# c\n",
    "nn = stats.norm(loc=0,scale=std(100))\n",
    "intg = nn.cdf(5) - nn.cdf(-5)\n",
    "print(\"part [c]:\" + TB + f\"{intg:0.3f}\")\n"
   ]
  },
  {
   "cell_type": "markdown",
   "id": "a1a40ca2",
   "metadata": {},
   "source": [
    "#### Problem 3: \n",
    "At widget factory, the machines produce about 5 percent defective widgets even when properly adjusted. The widgets are then packed in crates containing 1900 widgets each. A crate is examined and found to contain 115 defective widgets. What is the approximate probability of finding at least this many defective widgets if the machine is properly adjusted?"
   ]
  },
  {
   "cell_type": "markdown",
   "id": "3c485d00",
   "metadata": {},
   "source": [
    "This is basically a coin flip with p=0.05 and n = 1900. We can approximate the randomness using a normal distribution and integrate from 115 to infinity:"
   ]
  },
  {
   "cell_type": "code",
   "execution_count": 9,
   "id": "952d6567",
   "metadata": {},
   "outputs": [
    {
     "name": "stdout",
     "output_type": "stream",
     "text": [
      "Problem 3:\t0.018\n"
     ]
    }
   ],
   "source": [
    "n,p = 1900,0.05\n",
    "nn = stats.norm(loc=n*p , scale=np.sqrt(n*p*(1-p)))\n",
    "intg = 1-nn.cdf(115)\n",
    "print(\"Problem 3:\" + TB + f\"{intg:0.3f}\")\n"
   ]
  },
  {
   "cell_type": "markdown",
   "id": "23275490",
   "metadata": {},
   "source": [
    "#### Problem 4: \n",
    "In an opinion poll it is assumed that an unknown proportion p of the people are in favor of a proposed new law and a proportion 1 − p are against it. A sample of n people is taken to obtain their opinion. The proportion ¯p in favor in the sample is taken as an estimate of p. Using the Central Limit Theorem, determine how large a sample will ensure that the estimate will, with probability .95, be correct to within .01."
   ]
  },
  {
   "cell_type": "markdown",
   "id": "3281b2f3",
   "metadata": {},
   "source": [
    "The estimate of $\\hat{p}$ will be normally distributed with $E(\\hat{p}) = p$   and   $Var(\\hat{p}) = \\frac{p(1-p)}{n}$\n",
    "\n",
    "The difference between the estimate and the true value will be normally distributed with $E=0$ and same variance. Therefore the probability the estimate error being $\\pm 0.01$ can be computed using:"
   ]
  },
  {
   "cell_type": "code",
   "execution_count": 10,
   "id": "f89b78f8",
   "metadata": {},
   "outputs": [],
   "source": [
    "nn = stats.norm(loc=0,scale=np.sqrt(p*(1-p)/n) )\n",
    "intg = nn.cdf(0.01) - nn.cdf(-0.01)"
   ]
  },
  {
   "cell_type": "markdown",
   "id": "b885f733",
   "metadata": {},
   "source": [
    "... for some values of n and p. The worst case occurs when $p=0.5$, so lets assume that. Then we can iteratively increase n until we achieve an integral of 0.95:"
   ]
  },
  {
   "cell_type": "code",
   "execution_count": 12,
   "id": "21f308c4",
   "metadata": {},
   "outputs": [
    {
     "name": "stdout",
     "output_type": "stream",
     "text": [
      "Problem 4:\tn =  9604\n"
     ]
    }
   ],
   "source": [
    "p = 0.5\n",
    "intg = 0\n",
    "n = 10\n",
    "\n",
    "while intg < 0.95:\n",
    "    n = n + 1\n",
    "    nn = stats.norm(loc=0,scale=np.sqrt(p*(1-p)/n) )\n",
    "    intg = nn.cdf(0.01) - nn.cdf(-0.01)\n",
    "\n",
    "print(\"Problem 4:\" + TB + \"n = \" , n)"
   ]
  },
  {
   "cell_type": "markdown",
   "id": "a0b9d124",
   "metadata": {},
   "source": [
    "You can also get a good estimate by noting that in a normal distribution, about 95% of the integral is between $\\pm 2\\sigma$. Therefore we want $2\\sigma = 0.01$. Knowing that $\\sigma^2 = p(1-p)\\ /\\ n$ we can work out:\n",
    "\n",
    "$$ \\left(\\frac{0.01}{2}\\right)^2 = \\frac{0.5\\cdot0.5}{n}$$\n",
    "\n",
    "$$n = 10,000$$\n",
    "\n",
    "... so pretty much the same answer."
   ]
  },
  {
   "cell_type": "markdown",
   "id": "8615e048",
   "metadata": {},
   "source": [
    "We can confirm that p=0.5 is the worst case by repeating Problem 4 for other values of p. In each of those cases, we will require a smaller sample size to reach statistical significance. (Here I'm incrementing by n=10 instead of n=1 just to make it run faster. The required sample size will be accurate to within 10 people)."
   ]
  },
  {
   "cell_type": "code",
   "execution_count": 16,
   "id": "087312bc",
   "metadata": {},
   "outputs": [
    {
     "name": "stdout",
     "output_type": "stream",
     "text": [
      "p\tsample size\n",
      "0.1 \t 3460\n",
      "0.2 \t 6150\n",
      "0.3 \t 8070\n",
      "0.4 \t 9220\n",
      "0.5 \t 9610\n",
      "0.6 \t 9220\n",
      "0.7 \t 8070\n",
      "0.8 \t 6150\n",
      "0.9 \t 3460\n"
     ]
    }
   ],
   "source": [
    "print(\"p\" + TB + \"sample size\")\n",
    "\n",
    "for p in [0.1, 0.2, 0.3, 0.4, 0.5, 0.6, 0.7, 0.8, 0.9]:\n",
    "\n",
    "    intg,n = 0,0\n",
    "\n",
    "    while intg < 0.95:\n",
    "        n = n + 10\n",
    "        nn = stats.norm(loc=0,scale=np.sqrt(p*(1-p)/n) )\n",
    "        intg = nn.cdf(0.01) - nn.cdf(-0.01)\n",
    "    \n",
    "    print(p, TB , n)\n",
    "    "
   ]
  }
 ],
 "metadata": {
  "kernelspec": {
   "display_name": "Python 3 (ipykernel)",
   "language": "python",
   "name": "python3"
  },
  "language_info": {
   "codemirror_mode": {
    "name": "ipython",
    "version": 3
   },
   "file_extension": ".py",
   "mimetype": "text/x-python",
   "name": "python",
   "nbconvert_exporter": "python",
   "pygments_lexer": "ipython3",
   "version": "3.9.12"
  }
 },
 "nbformat": 4,
 "nbformat_minor": 5
}
