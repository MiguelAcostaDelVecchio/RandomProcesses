{
 "cells": [
  {
   "cell_type": "markdown",
   "id": "1f1e1c5a",
   "metadata": {},
   "source": [
    "#### Problem 1:\n",
    "\n",
    "In class we discussed a hidden markov model (HMM) for the following phenomenon:\n",
    "\n",
    "Days can either be Hot or Cold.\n",
    "\n",
    "On a hot day, you eat 1, 2, or 3 ice creams with probabilities 0.2, 0.4, and 0.4\n",
    "\n",
    "On a cold day, you eat 1, 2 or 3 ice creams with probabilities 0.5, 0.4, and 0.1\n",
    "\n",
    "If today is hot, there is a 0.6 chance tomorrow is hot.\n",
    "\n",
    "If today is cold, there is a 0.5 chance tomorrow is cold.\n",
    "\n",
    "There is a 0.8 chance the first day is hot.\n",
    "\n",
    "We used a forward trellis technique to determine that the probability of observing 3, 1, and 3 ice creams is 0.02856.\n",
    "\n",
    "We likewise determined that the most likely sequence of days to produce observations of 3, 1, 3 was H, C, H, and the probability of that outcome was 0.0128.\n",
    "\n",
    "The goal of this problem is for you to re-create these numbers using the `hmmlearn` library in Python. There is a chance you might have to install `hmmlearn` if your Anaconda installation doesn't have it (I had to do so.)\n",
    "\n",
    "Documentation for `hmmlearn` is [here](https://hmmlearn.readthedocs.io/en/latest/index.html)."
   ]
  },
  {
   "cell_type": "code",
   "execution_count": 1,
   "id": "84bedc6c",
   "metadata": {},
   "outputs": [],
   "source": [
    "import numpy as np\n",
    "import hmmlearn.hmm as hmm\n",
    "\n",
    "model = hmm.CategoricalHMM()\n",
    "model.n_components  = 2     # two states: hot and cold days\n",
    "model.startprob_    = [ 0.8,0.2 ]\n",
    "model.transmat_     = [ [0.6,0.4] , [0.5,0.5] ]\n",
    "model.emissionprob_ = [ [0.2,0.4,0.4] , [0.5,0.4,0.1] ]\n",
    "\n"
   ]
  },
  {
   "cell_type": "markdown",
   "id": "9512be11",
   "metadata": {},
   "source": [
    "Use `model.score` to determine the probability of observing 3, 1, and 3 ice creams. You should get the same answer as the hand calculation.\n",
    "\n",
    "Use `model.decode` to determine the mostly likely sequence of days to produce observations of 3, 1, and 3, and the probability of that outcome. Again, you should get the same scores as above."
   ]
  },
  {
   "cell_type": "markdown",
   "id": "5f262cfa",
   "metadata": {},
   "source": [
    "#### Problem 2\n",
    "\n",
    "Using the same model as in Problem 1, we are going to examine the concept of posterior likelihoods. Start with something simple: computing the likelihood that day 1 is hot given that we observed 3 ice creams. The expected answer should be:\n",
    "\n",
    "$$\\frac{0.8\\times0.4}{0.8\\times0.4 + 0.2\\times0.1} = 0.94$$\n",
    "\n",
    "We can confirm this in Python:"
   ]
  },
  {
   "cell_type": "code",
   "execution_count": 3,
   "id": "957514a6",
   "metadata": {},
   "outputs": [
    {
     "name": "stdout",
     "output_type": "stream",
     "text": [
      "[[0.94117647 0.05882353]]\n"
     ]
    }
   ],
   "source": [
    "_,posteriors = model.score_samples([[2]])\n",
    "print(posteriors)"
   ]
  },
  {
   "cell_type": "markdown",
   "id": "e2df34df",
   "metadata": {},
   "source": [
    "Here's where it gets interesting. Now lets observe 1 ice cream eaten on day 2. According to Python:"
   ]
  },
  {
   "cell_type": "code",
   "execution_count": 4,
   "id": "de2281c1",
   "metadata": {},
   "outputs": [
    {
     "name": "stdout",
     "output_type": "stream",
     "text": [
      "[[0.93601463 0.06398537]\n",
      " [0.36928702 0.63071298]]\n"
     ]
    }
   ],
   "source": [
    "_,posteriors = model.score_samples([[2,0]])\n",
    "print(posteriors)"
   ]
  },
  {
   "cell_type": "markdown",
   "id": "33fe40ce",
   "metadata": {},
   "source": [
    "This tells us there is a 0.63 chance that day 2 is cold. But interestingly we have a revised estimate of the probability that day 1 is hot. It has dropped from 0.94 to 0.93. Knowing that a 1 ice cream day follows a 3 ice cream day changes our posterior estimate that day 1 was hot.\n",
    "\n",
    "Determine the hand calculation that results in 0.93 being the revised likelihood that day 1 was hot given the observations of 3 and 1 ice creams."
   ]
  },
  {
   "cell_type": "markdown",
   "id": "00890055",
   "metadata": {},
   "source": [
    "#### Problem 3\n",
    "\n",
    "The file `hw_09_data.npy` contains samples from a system that you should model. The system contains 1, 2, 3, 4 states. At each point in time, a number is generated from a gaussian distribution, and then the system transitions to another state. Each state has its own gaussian distribution of unknown mean and variance. Your goal is to find the best model to fit the data.\n",
    "\n",
    "Load the data and, create a `GaussianHMM` model and use the `fit` function to find the best fit model. Repeat this process assuming either 1, 2, 3, or 4 model states. Which number of states produces the best fit? Are there any interesting observations you can make about the data?"
   ]
  }
 ],
 "metadata": {
  "kernelspec": {
   "display_name": "Python 3 (ipykernel)",
   "language": "python",
   "name": "python3"
  },
  "language_info": {
   "codemirror_mode": {
    "name": "ipython",
    "version": 3
   },
   "file_extension": ".py",
   "mimetype": "text/x-python",
   "name": "python",
   "nbconvert_exporter": "python",
   "pygments_lexer": "ipython3",
   "version": "3.9.12"
  }
 },
 "nbformat": 4,
 "nbformat_minor": 5
}
