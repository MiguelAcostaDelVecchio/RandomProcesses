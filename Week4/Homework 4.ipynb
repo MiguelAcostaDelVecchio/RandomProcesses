{
 "cells": [
  {
   "cell_type": "markdown",
   "id": "35efe81e",
   "metadata": {},
   "source": [
    "#### Question 1:\n",
    "Assume we have a Poisson random process in which we expect 2.5 arrivals per second. Generate 100,000 random numbers reflecting the number of random arrivals in one second. Plot the histogram and determine how closely the numbers match what you would expect.\n",
    "\n",
    "#### Question 2:\n",
    "Assume we have a Poisson random process in which we expect 5 arrivals per hour. Generate 100,000 random numbers reflecting the number of random arrivals in one minute. Plot the histogram and determine how closely the numbers match what you would expect. Also plot the histogram of the time between arrivals. Does that match what you expect?\n",
    "\n",
    "#### Question 3:\n",
    "Assume you have a prior belief that the value of lambda in a Poisson process is uniformly distributed between 5 and 10 arrivals per minute. You then observe the process and count 7 arrivals in the first minute and 9 in the second minute. Use Bayes theorem to determine the posterior distribution of values of lambda.\n",
    "\n",
    "#### Question 4:\n",
    "Assume we have a random Poisson process where the arrival rate varies linearly from 1 to 10 arrivals per second over the course of three hours. Generate one random number for each of the 10,800 seconds in the three-hour period. How would you be able to tell from the random numbers alone if you were properly varying the arrival rate?"
   ]
  }
 ],
 "metadata": {
  "kernelspec": {
   "display_name": "Python 3 (ipykernel)",
   "language": "python",
   "name": "python3"
  },
  "language_info": {
   "codemirror_mode": {
    "name": "ipython",
    "version": 3
   },
   "file_extension": ".py",
   "mimetype": "text/x-python",
   "name": "python",
   "nbconvert_exporter": "python",
   "pygments_lexer": "ipython3",
   "version": "3.9.12"
  }
 },
 "nbformat": 4,
 "nbformat_minor": 5
}
