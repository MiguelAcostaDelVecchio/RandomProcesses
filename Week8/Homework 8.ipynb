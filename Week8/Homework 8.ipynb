{
 "cells": [
  {
   "cell_type": "markdown",
   "id": "1f1e1c5a",
   "metadata": {},
   "source": [
    "#### Problem 1:\n",
    "A stock share in the company Temple Inc. has a price Yn on the nth business day of the year. You observe that the price change Xn = Yn+1 − Yn appears to be a random variable with mean 0 and variance 1/4. If Y1 = 30, find a lower bound for the following probabilities (under the assumption that the Xn’s are mutually independent)\n",
    "\n",
    "(a) $Pr(25 < Y_2 < 35)$\n",
    "\n",
    "(b) $Pr(25 < Y_{11} < 35)$\n",
    "\n",
    "(c) $Pr(25 < Y_{101} < 35)$"
   ]
  },
  {
   "cell_type": "markdown",
   "id": "b161d9cd",
   "metadata": {},
   "source": [
    "#### Problem 2: \n",
    "Repeat Problem 1 but assume that the price changes are Normally distributed (using the same mean and variance: 0 and 1/4, respectively)"
   ]
  },
  {
   "cell_type": "markdown",
   "id": "a1a40ca2",
   "metadata": {},
   "source": [
    "#### Problem 3: \n",
    "At widget factory, the machines produce about 5 percent defective widgets even when properly adjusted. The widgets are then packed in crates containing 1900 widgets each. A crate is examined and found to contain 115 defective widgets. What is the approximate probability of finding at least this many defective widgets if the machine is properly adjusted?"
   ]
  },
  {
   "cell_type": "markdown",
   "id": "23275490",
   "metadata": {},
   "source": [
    "#### Problem 4: \n",
    "In an opinion poll it is assumed that an unknown proportion p of the people are in favor of a proposed new law and a proportion 1 − p are against it. A sample of n people is taken to obtain their opinion. The proportion ¯p in favor in the sample is taken as an estimate of p. Using the Central Limit Theorem, determine how large a sample will ensure that the estimate will, with probability .95, be correct to within .01."
   ]
  }
 ],
 "metadata": {
  "kernelspec": {
   "display_name": "Python 3 (ipykernel)",
   "language": "python",
   "name": "python3"
  },
  "language_info": {
   "codemirror_mode": {
    "name": "ipython",
    "version": 3
   },
   "file_extension": ".py",
   "mimetype": "text/x-python",
   "name": "python",
   "nbconvert_exporter": "python",
   "pygments_lexer": "ipython3",
   "version": "3.9.12"
  }
 },
 "nbformat": 4,
 "nbformat_minor": 5
}