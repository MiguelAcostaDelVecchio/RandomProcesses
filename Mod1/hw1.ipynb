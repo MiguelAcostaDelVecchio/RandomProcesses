{
 "cells": [
  {
   "cell_type": "code",
   "execution_count": 20,
   "metadata": {
    "collapsed": true
   },
   "outputs": [
    {
     "ename": "ValueError",
     "evalue": "The truth value of an array with more than one element is ambiguous. Use a.any() or a.all()",
     "output_type": "error",
     "traceback": [
      "\u001B[1;31m---------------------------------------------------------------------------\u001B[0m",
      "\u001B[1;31mValueError\u001B[0m                                Traceback (most recent call last)",
      "Input \u001B[1;32mIn [20]\u001B[0m, in \u001B[0;36m<cell line: 11>\u001B[1;34m()\u001B[0m\n\u001B[0;32m     11\u001B[0m \u001B[38;5;28;01mfor\u001B[39;00m i \u001B[38;5;129;01min\u001B[39;00m \u001B[38;5;28mrange\u001B[39m(trials):\n\u001B[0;32m     12\u001B[0m     sampleNumbers \u001B[38;5;241m=\u001B[39m np\u001B[38;5;241m.\u001B[39mrandom\u001B[38;5;241m.\u001B[39mchoice(teams, \u001B[38;5;241m2\u001B[39m, p\u001B[38;5;241m=\u001B[39m[team1, team2])\n\u001B[1;32m---> 13\u001B[0m     \u001B[38;5;28;01mif\u001B[39;00m \u001B[43msampleNumbers\u001B[49m\u001B[38;5;241;43m==\u001B[39;49m\u001B[38;5;124;43m\"\u001B[39;49m\u001B[38;5;124;43mteam1\u001B[39;49m\u001B[38;5;124;43m\"\u001B[39;49m:\n\u001B[0;32m     14\u001B[0m         n1\u001B[38;5;241m+\u001B[39m\u001B[38;5;241m=\u001B[39m\u001B[38;5;241m1\u001B[39m\n\u001B[0;32m     15\u001B[0m     \u001B[38;5;28;01melse\u001B[39;00m:\n",
      "\u001B[1;31mValueError\u001B[0m: The truth value of an array with more than one element is ambiguous. Use a.any() or a.all()"
     ]
    }
   ],
   "source": [
    "import numpy as np\n",
    "teams = [\"team1\", \"team2\"]\n",
    "team1 = 0.65\n",
    "team2 = 0.35\n",
    "ngames = 7\n",
    "\n",
    "trials = 100000\n",
    "\n",
    "n1 = 0\n",
    "n2 = 0\n",
    "for i in range(trials):\n",
    "    sampleNumbers = np.random.choice(teams, 2, p=[team1, team2])\n",
    "    if sampleNumbers==\"team1\":\n",
    "        n1+=1\n",
    "    else:\n",
    "        n2+=1\n",
    "print(n1 + \" and \" + n2)"
   ]
  },
  {
   "cell_type": "code",
   "execution_count": null,
   "outputs": [],
   "source": [],
   "metadata": {
    "collapsed": false,
    "pycharm": {
     "name": "#%%\n"
    }
   }
  }
 ],
 "metadata": {
  "kernelspec": {
   "display_name": "Python 3",
   "language": "python",
   "name": "python3"
  },
  "language_info": {
   "codemirror_mode": {
    "name": "ipython",
    "version": 2
   },
   "file_extension": ".py",
   "mimetype": "text/x-python",
   "name": "python",
   "nbconvert_exporter": "python",
   "pygments_lexer": "ipython2",
   "version": "2.7.6"
  }
 },
 "nbformat": 4,
 "nbformat_minor": 0
}