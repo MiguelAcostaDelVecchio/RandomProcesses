{
 "cells": [
  {
   "cell_type": "markdown",
   "id": "dfe1d089",
   "metadata": {},
   "source": [
    "## Coin Flip Experiments\n",
    "August 22, 2022\n",
    "\n",
    "Binomial Random Processes\n",
    "\n",
    "Assume we have a coin with probability $p$ of coming up heads. We flip the coin $N$ times and count the number of heads, $h$. The expected value of $h$ is $E(h) = Np$ and the variance should be $Var(h) = Np(1-p)$"
   ]
  },
  {
   "cell_type": "code",
   "execution_count": 2,
   "id": "45512090",
   "metadata": {},
   "outputs": [],
   "source": [
    "import numpy as np\n",
    "import matplotlib.pyplot as plt\n",
    "import scipy.stats as stats"
   ]
  },
  {
   "cell_type": "code",
   "execution_count": 135,
   "id": "75bd6920",
   "metadata": {},
   "outputs": [],
   "source": [
    "N = 3\n",
    "p = 0.6\n",
    "random_process = stats.binom(n = N , p = p)"
   ]
  },
  {
   "cell_type": "code",
   "execution_count": 70,
   "id": "c39eecd2",
   "metadata": {},
   "outputs": [
    {
     "name": "stdout",
     "output_type": "stream",
     "text": [
      "1.8031\n"
     ]
    }
   ],
   "source": [
    "# the less efficient way\n",
    "nTrials = 100000\n",
    "values = []\n",
    "for i in range(nTrials):\n",
    "    values.append(random_process.rvs())\n",
    "print( sum(values) / nTrials )"
   ]
  },
  {
   "cell_type": "code",
   "execution_count": 77,
   "id": "91178ae5",
   "metadata": {},
   "outputs": [],
   "source": [
    "# the more efficient way\n",
    "nTrials = 1000000\n",
    "values = random_process.rvs( size=nTrials )"
   ]
  },
  {
   "cell_type": "code",
   "execution_count": 83,
   "id": "e452a4c4",
   "metadata": {},
   "outputs": [],
   "source": [
    "# pct error function\n",
    "def pct_err(exp,thr):\n",
    "        return (exp-thr)/thr"
   ]
  },
  {
   "cell_type": "code",
   "execution_count": 82,
   "id": "f72d6223",
   "metadata": {},
   "outputs": [
    {
     "name": "stdout",
     "output_type": "stream",
     "text": [
      "The average value is 1.8\n",
      "The variance is 0.72\n"
     ]
    }
   ],
   "source": [
    "print(\"The average value is \" + f\"{values.mean():0.2}\" )\n",
    "print(\"The variance is \"      + f\"{values.var() :0.2}\")"
   ]
  },
  {
   "cell_type": "code",
   "execution_count": 109,
   "id": "567a5ec9",
   "metadata": {},
   "outputs": [],
   "source": [
    "def print_value(name , exp , thr):\n",
    "    print(\"The \" + f\"{name:9s}\" + \" value is \" + f\"{exp:0.2f}\" + \", pct err: \" + f\"{100*pct_err(exp,thr):+0.2f}\" + \"%\")"
   ]
  },
  {
   "cell_type": "code",
   "execution_count": 110,
   "id": "645c882e",
   "metadata": {},
   "outputs": [
    {
     "name": "stdout",
     "output_type": "stream",
     "text": [
      "The average   value is 1.80, pct err: -0.08%\n",
      "The variance  value is 0.72, pct err: +0.17%\n",
      "The stdev     value is 0.85, pct err: +0.09%\n"
     ]
    }
   ],
   "source": [
    "print_value(\"average\"  , values.mean() , N*p                )\n",
    "print_value(\"variance\" , values.var()  , N*p*(1-p)          )\n",
    "print_value(\"stdev\"    , values.std()  , np.sqrt(N*p*(1-p)) )"
   ]
  },
  {
   "cell_type": "markdown",
   "id": "5b6eb46c",
   "metadata": {},
   "source": [
    "Take a minute and see if you can predict by hand the expected value and variance for the following random variable:\n",
    "\n",
    "$pr(0) = 0.7 , pr(1) = 0.2 , pr(2) = 0.1$"
   ]
  },
  {
   "cell_type": "markdown",
   "id": "2044fc5b",
   "metadata": {},
   "source": [
    "$E(x) = 0\\times 0.7 + 1 \\times 0.2 + 2\\times 0.1 = 0.4$\n",
    "\n",
    "$E(x^2) = 0^2 \\times 0.7 + 1^2 \\times 0.2 + 2^2 \\times 0.1 = 0.6$\n",
    "\n",
    "$Var(x) = E(x^2) - E^2(x) = 0.6 - 0.4^2 = 0.44$"
   ]
  },
  {
   "cell_type": "code",
   "execution_count": 122,
   "id": "94d4175c",
   "metadata": {},
   "outputs": [
    {
     "name": "stdout",
     "output_type": "stream",
     "text": [
      "The average   value is 0.40, pct err: +0.00%\n",
      "The variance  value is 0.44, pct err: -0.04%\n"
     ]
    }
   ],
   "source": [
    "nTrials = int(1e6)\n",
    "values = np.random.choice( [0,1,2] , nTrials , p=[0.7,0.2,0.1] )\n",
    "print_value(\"average\" , values.mean() , 0.4 )\n",
    "print_value(\"variance\" , values.var() , 0.44 )\n"
   ]
  },
  {
   "cell_type": "code",
   "execution_count": 132,
   "id": "743ce074",
   "metadata": {},
   "outputs": [
    {
     "name": "stdout",
     "output_type": "stream",
     "text": [
      "[699901 200195  99904]\n",
      "[0 1 2]\n"
     ]
    },
    {
     "data": {
      "image/png": "[encoded data removed]",
      "text/plain": [
       "<Figure size 640x480 with 1 Axes>"
      ]
     },
     "metadata": {},
     "output_type": "display_data"
    }
   ],
   "source": [
    "uVals,cnt = np.unique(values , return_counts=True )\n",
    "print(cnt)\n",
    "print(uVals)\n",
    "plt.bar(uVals,cnt/nTrials)\n",
    "plt.xlabel('random variable values')\n",
    "plt.ylabel('probability')\n",
    "plt.grid()\n",
    "plt.show()"
   ]
  }
 ],
 "metadata": {
  "kernelspec": {
   "display_name": "Python 3",
   "language": "python",
   "name": "python3"
  },
  "language_info": {
   "codemirror_mode": {
    "name": "ipython",
    "version": 3
   },
   "file_extension": ".py",
   "mimetype": "text/x-python",
   "name": "python",
   "nbconvert_exporter": "python",
   "pygments_lexer": "ipython3",
   "version": "3.8.3"
  }
 },
 "nbformat": 4,
 "nbformat_minor": 5
}
