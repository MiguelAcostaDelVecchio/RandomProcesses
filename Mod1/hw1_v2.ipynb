{
 "cells": [
  {
   "cell_type": "code",
   "execution_count": 8,
   "metadata": {
    "collapsed": true
   },
   "outputs": [
    {
     "name": "stdout",
     "output_type": "stream",
     "text": [
      "[0.]\n",
      "Expected value is0.0\n",
      "Variance is 0.0\n",
      "Q2 theoretical: 0.800154265625\n",
      "Q2 simulation: 0\n"
     ]
    },
    {
     "ename": "TypeError",
     "evalue": "unsupported operand type(s) for ^: 'float' and 'int'",
     "output_type": "error",
     "traceback": [
      "\u001B[1;31m---------------------------------------------------------------------------\u001B[0m",
      "\u001B[1;31mTypeError\u001B[0m                                 Traceback (most recent call last)",
      "Input \u001B[1;32mIn [8]\u001B[0m, in \u001B[0;36m<cell line: 61>\u001B[1;34m()\u001B[0m\n\u001B[0;32m     58\u001B[0m \u001B[38;5;28mprint\u001B[39m(\u001B[38;5;124m\"\u001B[39m\u001B[38;5;124mQ2 simulation: \u001B[39m\u001B[38;5;124m\"\u001B[39m \u001B[38;5;241m+\u001B[39m \u001B[38;5;28mstr\u001B[39m(sim4))\n\u001B[0;32m     60\u001B[0m \u001B[38;5;66;03m##### Question f and g\u001B[39;00m\n\u001B[1;32m---> 61\u001B[0m head0 \u001B[38;5;241m=\u001B[39m \u001B[38;5;241;43m0.5\u001B[39;49m\u001B[38;5;241;43m^\u001B[39;49m\u001B[38;5;241;43m6\u001B[39;49m\n\u001B[0;32m     62\u001B[0m head1 \u001B[38;5;241m=\u001B[39m head0 \u001B[38;5;241m*\u001B[39m \u001B[38;5;241m5\u001B[39m\n\u001B[0;32m     63\u001B[0m head2 \u001B[38;5;241m=\u001B[39m head0\u001B[38;5;241m*\u001B[39m\u001B[38;5;241m5\u001B[39m\n",
      "\u001B[1;31mTypeError\u001B[0m: unsupported operand type(s) for ^: 'float' and 'int'"
     ]
    }
   ],
   "source": [
    "import random\n",
    "from matplotlib import pyplot as plt\n",
    "import numpy as np\n",
    "from scipy.stats import binom\n",
    "\n",
    "##### Question a, b, and c\n",
    "def expected_value(values, weights):\n",
    "    values = np.asarray(values)\n",
    "    weights = np.asarray(weights)\n",
    "    return (values * weights).sum() / weights.sum()\n",
    "\n",
    "teams = [\"team1\", \"team2\"]\n",
    "p = 0.65\n",
    "ngames = 7\n",
    "trials = 100000\n",
    "wongames = []\n",
    "\n",
    "for i in range(trials):\n",
    "\ta = []\n",
    "\tfor j in range(ngames):\n",
    "\t\ta.append(random.choices(teams, weights=(p,1-p), k=1))\n",
    "\twongames.append(a.count(\"team1\")/7)\n",
    "\n",
    "#fig = plt.figure(figsize =(10, 7))\n",
    "#plt.hist(wongames, bins = [0,0.2,0.4,0.6,0.8,1])\n",
    "#plt.title(\"Distribution\")\n",
    "#plt.show()\n",
    "\n",
    "#### calculating expected value\n",
    "b = [0, 1, 2, 3, 4, 5, 6, 7]\n",
    "\n",
    "def unique(list1):\n",
    "    x = np.array(list1)\n",
    "    print(np.unique(x))\n",
    "\n",
    "unique_vals = unique(wongames)\n",
    "probs = []\n",
    "\n",
    "for i in b:\n",
    "\tprobs.append(wongames.count(i))\n",
    "\n",
    "mu = expected_value(b,probs)\n",
    "print(\"Expected value is\" + str(mu))\n",
    "\n",
    "# calculating variance\n",
    "print(\"Variance is \" + str(np.var(wongames)))\n",
    "\n",
    "# theoretical\n",
    "theo = np.random.binomial(n=7,p=0.65,size=1000)\n",
    "theo_expected_value = np.mean(theo)\n",
    "theo_variance = np.var(theo)\n",
    "\n",
    "\n",
    "###### Question d and e\n",
    "sim4 = sum(np.array(wongames)>0.56)\n",
    "theo4 = 1 - binom.cdf(k=3,n=7,p=0.65)\n",
    "print(\"Q2 theoretical: \" + str(theo4))\n",
    "print(\"Q2 simulation: \" + str(sim4))\n",
    "\n",
    "##### Question f and g\n",
    "head0 = 0.5^6\n",
    "head1 = head0 * 5\n",
    "head2 = head0*5\n",
    "\n",
    "numberOfStreaks = 0\n",
    "results = []\n",
    "head_streak = ['H'] * 6\n",
    "tail_streak = ['T'] * 6\n",
    "sample_size = 6\n",
    "for _ in range(sample_size):\n",
    "    # Code that generates another 'heads' or 'tails' value\n",
    "    results.append(random.choice(('H', 'T')))\n",
    "\n",
    "    # Code that checks if there is a streak of 5 heads\n",
    "    results = results[-6:]\n",
    "    if results == head_streak:\n",
    "        numberOfStreaks += 1\n",
    "\n",
    "    # Code that checks if there is a streak of 4 heads\n",
    "    results = results[-5:]\n",
    "    if results == head_streak:\n",
    "        numberOfStreaks += 1\n",
    "\n",
    "    # Code that checks if there is a streak of 3 heads\n",
    "    results = results[-4:]\n",
    "    if results == head_streak:\n",
    "        numberOfStreaks += 1\n",
    "\n",
    "    # Code that checks if there is a streak of 2 heads\n",
    "    results = results[-3:]\n",
    "    if results == head_streak:\n",
    "        numberOfStreaks += 1\n",
    "\n",
    "\n",
    "print('Chance of streak: %s%%' % (numberOfStreaks / sample_size))\n",
    "\n",
    "\n",
    "\n",
    "\n",
    "\n"
   ]
  },
  {
   "cell_type": "code",
   "execution_count": null,
   "outputs": [],
   "source": [],
   "metadata": {
    "collapsed": false,
    "pycharm": {
     "name": "#%%\n"
    }
   }
  }
 ],
 "metadata": {
  "kernelspec": {
   "display_name": "Python 3",
   "language": "python",
   "name": "python3"
  },
  "language_info": {
   "codemirror_mode": {
    "name": "ipython",
    "version": 2
   },
   "file_extension": ".py",
   "mimetype": "text/x-python",
   "name": "python",
   "nbconvert_exporter": "python",
   "pygments_lexer": "ipython2",
   "version": "2.7.6"
  }
 },
 "nbformat": 4,
 "nbformat_minor": 0
}