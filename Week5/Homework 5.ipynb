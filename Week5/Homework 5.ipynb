{
 "cells": [
  {
   "cell_type": "markdown",
   "id": "fc2c16ae",
   "metadata": {},
   "source": [
    "#### Introduction\n",
    "This assignment will be a little different. You are going to use some of the built-in toolkits to try doing K-Means clustering in multiple dimensions. You are also going to try using _dimensionality reduction_ and _dimension transformation_ to improve your performance."
   ]
  },
  {
   "cell_type": "markdown",
   "id": "7131dfb8",
   "metadata": {},
   "source": [
    "#### Data\n",
    "You will need `hw5_data_1.npy`, `hw5_data_2.npy`, and `hw5_data_3.npy`. You can load these into Python using\n",
    "\n",
    "`\n",
    "data = np.load(filename)\n",
    "`"
   ]
  },
  {
   "cell_type": "markdown",
   "id": "7d556c0b",
   "metadata": {},
   "source": [
    "#### Imports\n",
    "Import all of the following libraries\n",
    "```\n",
    "import numpy as np\n",
    "import matplotlib.pyplot as plt\n",
    "from sklearn.cluster import KMeans\n",
    "from sklearn.decomposition import PCA\n",
    "from sklearn.decomposition import KernelPCA\n",
    "from sklearn.metrics import confusion_matrix\n",
    "```"
   ]
  },
  {
   "cell_type": "markdown",
   "id": "1232cbf3",
   "metadata": {},
   "source": [
    "#### Data 1\n",
    "The data in this file is `2000x2` which means it is 2000 samples of 2-dimensional data. The first 1000 data points are from Cluster 0 and the second are from Cluster 1. Use the built-in `KMeans` toolbox to apply K-Means clustering to this data. Use the `confusion_matrix` function to determine how good your fit is. Your only goal here is to practice using the built-in toolboxes."
   ]
  },
  {
   "cell_type": "markdown",
   "id": "2b004b01",
   "metadata": {},
   "source": [
    "#### Data 2\n",
    "The data in this file is `4000x5` which means it is 4000 samples of 5-dimensional data. Data of anything more than 2-dimensions is difficult (impossible?) to visualize. Try plotting 2D or 3D scatter plots of two or three dimensions of the data at a time to try to get an idea of what it looks like. How many clusters do you think there are?\n",
    "\n",
    "Use `KMeans` to cluster the data according to however many clusters you think there should be. Create some sort of plots that demonstrate the results of the clustering.\n",
    "\n",
    "One popular approach with multidimensional data is to _reduce_ the dimensionality before clustering it. This means projecting the data onto a lower dimension. For example, if you have x, y, and z, but y and z are highly correlated, then you can easily just work with x and y for clustering purposes. Use the `PCA` library to reduce your data to two dimensions. Create a 2D scatterplot to verify it worked. Then use `KMeans` to cluster the reduced data. Does it work? Comment on what you see."
   ]
  },
  {
   "cell_type": "markdown",
   "id": "8dea5cea",
   "metadata": {},
   "source": [
    "#### Data 3\n",
    "The data in this last file is `1000x2`. If you do a scatterplot, you will see two well-defined clusters. Try to cluster the data using `KMeans`. How well does it work? Why?\n",
    "\n",
    "Try using `PCA` before `KMeans` to see if that helps separate the data. In this case, `PCA` won't be used for dimension reduction (because the data is 2D to start with so its already a low dimension). But perhaps doing a 2D projection might help separate out the clusters. Does that help? Why?\n",
    "\n",
    "Finally, try using `KernelPCA` to apply a _kernel_ to the data along with `PCA` before `KMeans` clustering. There are several kernel types available. Which one works best?  You can read more about kernels and basis functions __[here](https://www.cs.princeton.edu/courses/archive/fall18/cos324/files/basis-functions.pdf)__\n",
    "\n",
    "How does the clustering perform now? Is there still room for improvement?\n"
   ]
  }
 ],
 "metadata": {
  "kernelspec": {
   "display_name": "Python 3 (ipykernel)",
   "language": "python",
   "name": "python3"
  },
  "language_info": {
   "codemirror_mode": {
    "name": "ipython",
    "version": 3
   },
   "file_extension": ".py",
   "mimetype": "text/x-python",
   "name": "python",
   "nbconvert_exporter": "python",
   "pygments_lexer": "ipython3",
   "version": "3.9.12"
  }
 },
 "nbformat": 4,
 "nbformat_minor": 5
}
