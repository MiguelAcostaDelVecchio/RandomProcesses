{
 "cells": [
  {
   "cell_type": "code",
   "execution_count": 218,
   "id": "12de6b2b",
   "metadata": {},
   "outputs": [],
   "source": [
    "# imports\n",
    "\n",
    "import numpy as np\n",
    "import matplotlib.pyplot as plt\n",
    "import mat73\n",
    "\n",
    "from sklearn.linear_model import LinearRegression\n",
    "from sklearn.metrics import r2_score"
   ]
  },
  {
   "cell_type": "code",
   "execution_count": 219,
   "id": "841ebf76",
   "metadata": {},
   "outputs": [],
   "source": [
    "# define constants and helper functions\n",
    "\n",
    "# file to process\n",
    "fname = \"indy_20160407_02.mat\"\n",
    "\n",
    "# bin width\n",
    "bin_width = 16e-3\n",
    "\n",
    "# trial and error to match value in refh_results.csv\n",
    "min_neuron_len = 383\n",
    "    \n",
    "# define a valid neuron\n",
    "def valid_neuron(neuron):\n",
    "    return len(neuron) >= min_neuron_len\n",
    "\n",
    "# compute snr same as in Makin 2018\n",
    "def compute_snr(r2):\n",
    "    return -10*np.log10(1-r2)"
   ]
  },
  {
   "cell_type": "code",
   "execution_count": 220,
   "id": "f5109468",
   "metadata": {},
   "outputs": [],
   "source": [
    "# load and preprocess data\n",
    "\n",
    "# load data from a single file into python\n",
    "data = mat73.loadmat(fname)\n",
    "\n",
    "# extract variables from the data dictionary\n",
    "for key,val in data.items():\n",
    "    exec(key + '=val')\n",
    "\n",
    "# merge (flatten) the spikes data structure for ease of manipulation\n",
    "spks = []\n",
    "for electrode in spikes:\n",
    "    for neuron in electrode:\n",
    "        if valid_neuron(neuron):\n",
    "            spks.append(neuron)\n",
    "\n",
    "n_neurons = len(spks)"
   ]
  },
  {
   "cell_type": "code",
   "execution_count": 221,
   "id": "23fe4c96",
   "metadata": {},
   "outputs": [],
   "source": [
    "# downsample kinematic data (4ms -> 16ms) and time vector\n",
    "\n",
    "pos  = cursor_pos[ 3:-1:4 , : ] # start at sample 3 - makes the vector same size as in refh_results.csv\n",
    "t_d  = t[ 3:-1:4 ] "
   ]
  },
  {
   "cell_type": "code",
   "execution_count": 222,
   "id": "5baef478",
   "metadata": {},
   "outputs": [],
   "source": [
    "# bin the spike data\n",
    "\n",
    "bins = np.append( t_d , t_d[-1]+bin_width )\n",
    "binned_spikes = np.zeros( (n_neurons,len(t_d)) )\n",
    "\n",
    "for i,neuron in enumerate(spks):\n",
    "    cnt,_ = np.histogram(neuron,bins)\n",
    "    binned_spikes[i,:] = cnt"
   ]
  },
  {
   "cell_type": "code",
   "execution_count": 223,
   "id": "1f7ccb6b",
   "metadata": {},
   "outputs": [],
   "source": [
    "# divide into training and testing data sets\n",
    "\n",
    "t_train_sec     = 320\n",
    "n_train_samples = int(t_train_sec / bin_width)\n",
    "\n",
    "pos_train           = pos[ :n_train_samples , : ]\n",
    "pos_test            = pos[ n_train_samples: , : ]\n",
    "\n",
    "binned_spikes_train = binned_spikes[ : , :n_train_samples ]\n",
    "binned_spikes_test  = binned_spikes[ : , n_train_samples: ]\n",
    "\n",
    "t_train             = t_d [ :n_train_samples ]\n",
    "t_test              = t_d [ n_train_samples: ]"
   ]
  },
  {
   "cell_type": "code",
   "execution_count": 224,
   "id": "7f6b3f75",
   "metadata": {},
   "outputs": [
    {
     "name": "stdout",
     "output_type": "stream",
     "text": [
      "binned_spikes_train: (291, 20000)\n",
      "pos_train: (20000, 2)\n",
      "\n",
      "binned_spikes_test: (291, 31111)\n",
      "pos_test: (31111, 2)\n"
     ]
    }
   ],
   "source": [
    "# verify sizes are as expected\n",
    "\n",
    "print(f\"binned_spikes_train: {binned_spikes_train.shape}\")\n",
    "print(f\"pos_train: {pos_train.shape}\")\n",
    "print(\"\")\n",
    "print(f\"binned_spikes_test: {binned_spikes_test.shape}\")\n",
    "print(f\"pos_test: {pos_test.shape}\")"
   ]
  },
  {
   "cell_type": "code",
   "execution_count": 230,
   "outputs": [
    {
     "name": "stdout",
     "output_type": "stream",
     "text": [
      "[58.55611041 58.55615266 58.55624154 ... 68.13437872 68.06021646\n",
      " 67.90441536]\n"
     ]
    }
   ],
   "source": [
    "data1 = binned_spikes_train[0].reshape(-1,1)\n",
    "data2x = np.transpose(pos_train)[0] # comparing to the monkey's finger x position\n",
    "data2y = np.transpose(pos_train)[1] # comparing to the monkey's finger y position\n",
    "\n",
    "#data3 = binned_spikes_test[0].reshape(-1,1)\n",
    "#data4 = np.transpose(pos_test)[0]\n",
    "\n",
    "#print(data1[0:320].shape)\n",
    "#print(data2[0:320].shape)\n",
    "#print(data2y)\n"
   ],
   "metadata": {
    "collapsed": false,
    "pycharm": {
     "name": "#%%\n"
    }
   }
  },
  {
   "cell_type": "code",
   "execution_count": 226,
   "outputs": [],
   "source": [
    "# Trying out LinearRegression() model\n",
    "\n",
    "def lregModel(data1, data2):\n",
    "    lreg = LinearRegression().fit(data1, data2)\n",
    "    print(lreg)\n",
    "\n",
    "    # Obtain the coefficient of determination by calling the model with the score() function, then print the coefficient:\n",
    "    r_sq = lreg.score(data1, data2x)\n",
    "    print('coefficient of determination:', r_sq)\n",
    "\n",
    "    # Print the Intercept:\n",
    "    print('intercept:', lreg.intercept_)\n",
    "\n",
    "    # Print the Slope:\n",
    "    print('slope:', lreg.coef_)\n",
    "\n",
    "    # Predict a Response and print it:\n",
    "    data_pred = lreg.predict(data1)\n",
    "    print('Predicted response:', data_pred, sep='\\n')\n",
    "    print('Length of prediction: ', len(data_pred))\n",
    "    print('SNR: ', compute_snr(r_sq))\n",
    "    \n",
    "    print('R^2 using r2_score: ', r2_score(data2, data_pred))"
   ],
   "metadata": {
    "collapsed": false,
    "pycharm": {
     "name": "#%%\n"
    }
   }
  },
  {
   "cell_type": "code",
   "execution_count": 227,
   "outputs": [
    {
     "name": "stdout",
     "output_type": "stream",
     "text": [
      "Linear regression of neurons firing to Monkey's finger x position:\n",
      "\n",
      "LinearRegression()\n",
      "coefficient of determination: 0.0039943023709970715\n",
      "intercept: -32.85649670590573\n",
      "slope: [-10.02762025]\n",
      "Predicted response:\n",
      "[-42.88411695 -32.85649671 -32.85649671 ... -42.88411695 -32.85649671\n",
      " -32.85649671]\n",
      "Length of prediction:  20000\n",
      "SNR:  0.017381771970257916\n",
      "R^2 using r2_score:  0.0039943023709970715\n",
      "\n",
      "\n",
      "\n",
      "Linear regression of neurons firing to Monkey's finger y position:\n",
      "\n",
      "LinearRegression()\n",
      "coefficient of determination: -3.583731737678807\n",
      "intercept: 62.23491066614677\n",
      "slope: [-6.45093757]\n",
      "Predicted response:\n",
      "[55.7839731  62.23491067 62.23491067 ... 55.7839731  62.23491067\n",
      " 62.23491067]\n",
      "Length of prediction:  20000\n",
      "SNR:  -6.612191926733506\n",
      "R^2 using r2_score:  0.006535524747832477\n"
     ]
    }
   ],
   "source": [
    "print(\"Linear regression of neurons firing to Monkey's finger x position:\\n\")\n",
    "lregModel(data1, data2x)\n",
    "\n",
    "print(\"\\n\\n\\nLinear regression of neurons firing to Monkey's finger y position:\\n\")\n",
    "lregModel(data1, data2y)\n",
    "\n"
   ],
   "metadata": {
    "collapsed": false,
    "pycharm": {
     "name": "#%%\n"
    }
   }
  }
 ],
 "metadata": {
  "kernelspec": {
   "display_name": "Python 3 (ipykernel)",
   "language": "python",
   "name": "python3"
  },
  "language_info": {
   "codemirror_mode": {
    "name": "ipython",
    "version": 3
   },
   "file_extension": ".py",
   "mimetype": "text/x-python",
   "name": "python",
   "nbconvert_exporter": "python",
   "pygments_lexer": "ipython3",
   "version": "3.9.12"
  }
 },
 "nbformat": 4,
 "nbformat_minor": 5
}