{
 "cells": [
  {
   "cell_type": "code",
   "execution_count": 1,
   "id": "12de6b2b",
   "metadata": {},
   "outputs": [],
   "source": [
    "# imports\n",
    "\n",
    "import numpy as np\n",
    "import matplotlib.pyplot as plt\n",
    "import mat73\n",
    "\n",
    "from sklearn.linear_model import LinearRegression\n",
    "from sklearn.metrics import mean_squared_error, r2_score\n",
    "\n",
    "from filterpy.kalman import KalmanFilter\n",
    "from scipy.signal import wiener"
   ]
  },
  {
   "cell_type": "code",
   "execution_count": 2,
   "id": "841ebf76",
   "metadata": {},
   "outputs": [],
   "source": [
    "wiener.filter()\n",
    "# define constants and helper functions\n",
    "\n",
    "# file to process\n",
    "fname = \"indy_20160407_02.mat\"\n",
    "\n",
    "# bin width\n",
    "bin_width = 16e-3\n",
    "\n",
    "# trial and error to match value in refh_results.csv\n",
    "min_neuron_len = 383\n",
    "    \n",
    "# define a valid neuron\n",
    "def valid_neuron(neuron):\n",
    "    return len(neuron) >= min_neuron_len\n",
    "\n",
    "# compute snr same as in Makin 2018\n",
    "def compute_snr(r2):\n",
    "    return -10*np.log10(1-r2)"
   ]
  },
  {
   "cell_type": "code",
   "execution_count": 3,
   "id": "f5109468",
   "metadata": {},
   "outputs": [],
   "source": [
    "# load and preprocess data\n",
    "\n",
    "# load data from a single file into python\n",
    "data = mat73.loadmat(fname)\n",
    "\n",
    "# extract variables from the data dictionary\n",
    "for key,val in data.items():\n",
    "    exec(key + '=val')\n",
    "\n",
    "# merge (flatten) the spikes data structure for ease of manipulation\n",
    "spks = []\n",
    "for electrode in spikes:\n",
    "    for neuron in electrode:\n",
    "        if valid_neuron(neuron):\n",
    "            spks.append(neuron)\n",
    "\n",
    "n_neurons = len(spks)"
   ]
  },
  {
   "cell_type": "code",
   "execution_count": 4,
   "id": "23fe4c96",
   "metadata": {},
   "outputs": [],
   "source": [
    "# downsample kinematic data (4ms -> 16ms) and time vector\n",
    "\n",
    "pos  = cursor_pos[ 3:-1:4 , : ] # start at sample 3 - makes the vector same size as in refh_results.csv\n",
    "t_d  = t[ 3:-1:4 ] "
   ]
  },
  {
   "cell_type": "code",
   "execution_count": 5,
   "id": "5baef478",
   "metadata": {},
   "outputs": [],
   "source": [
    "# bin the spike data\n",
    "\n",
    "bins = np.append( t_d , t_d[-1]+bin_width )\n",
    "binned_spikes = np.zeros( (n_neurons,len(t_d)) )\n",
    "\n",
    "for i,neuron in enumerate(spks):\n",
    "    cnt,_ = np.histogram(neuron,bins)\n",
    "    binned_spikes[i,:] = cnt"
   ]
  },
  {
   "cell_type": "code",
   "execution_count": 6,
   "id": "1f7ccb6b",
   "metadata": {},
   "outputs": [],
   "source": [
    "# divide into training and testing data sets\n",
    "\n",
    "t_train_sec     = 320\n",
    "n_train_samples = int(t_train_sec / bin_width)\n",
    "\n",
    "pos_train           = pos[ :n_train_samples , : ]\n",
    "pos_test            = pos[ n_train_samples: , : ]\n",
    "\n",
    "binned_spikes_train = binned_spikes[ : , :n_train_samples ]\n",
    "binned_spikes_test  = binned_spikes[ : , n_train_samples: ]\n",
    "\n",
    "t_train             = t_d [ :n_train_samples ]\n",
    "t_test              = t_d [ n_train_samples: ]"
   ]
  },
  {
   "cell_type": "code",
   "execution_count": 7,
   "id": "7f6b3f75",
   "metadata": {},
   "outputs": [
    {
     "name": "stdout",
     "output_type": "stream",
     "text": [
      "binned_spikes_train: (291, 20000)\n",
      "pos_train: (20000, 2)\n",
      "\n",
      "binned_spikes_test: (291, 31111)\n",
      "pos_test: (31111, 2)\n"
     ]
    }
   ],
   "source": [
    "# verify sizes are as expected\n",
    "\n",
    "print(f\"binned_spikes_train: {binned_spikes_train.shape}\")\n",
    "print(f\"pos_train: {pos_train.shape}\")\n",
    "print(\"\")\n",
    "print(f\"binned_spikes_test: {binned_spikes_test.shape}\")\n",
    "print(f\"pos_test: {pos_test.shape}\")"
   ]
  },
  {
   "cell_type": "code",
   "execution_count": 8,
   "outputs": [],
   "source": [
    "spikesTrainData = binned_spikes_train[0].reshape(-1,1)\n",
    "xpositionTrainData = np.transpose(pos_train)[0] # comparing to the monkey's finger x position\n",
    "ypositionTrainData = np.transpose(pos_train)[1] # comparing to the monkey's finger y position\n",
    "\n",
    "spikesTestData = binned_spikes_test[0].reshape(-1,1)\n",
    "xpositionTestData = np.transpose(pos_test)[0]\n",
    "ypositionTestData = np.transpose(pos_test)[1]"
   ],
   "metadata": {
    "collapsed": false,
    "pycharm": {
     "name": "#%%\n"
    }
   }
  },
  {
   "cell_type": "code",
   "execution_count": 9,
   "outputs": [
    {
     "name": "stdout",
     "output_type": "stream",
     "text": [
      "(20000, 1)\n",
      "(20000,)\n"
     ]
    }
   ],
   "source": [
    "print(binned_spikes_train[0].reshape(-1,1).shape)\n",
    "print(binned_spikes_train[0].shape)\n",
    "#print(binned_spikes_train[1:].reshape(-1,1).shape)\n",
    "#print(data1[0:320].shape)\n",
    "#print(data2[0:320].shape)\n",
    "#print(data2y)\n"
   ],
   "metadata": {
    "collapsed": false,
    "pycharm": {
     "name": "#%%\n"
    }
   }
  },
  {
   "cell_type": "markdown",
   "source": [
    "### Trying Linear Regression"
   ],
   "metadata": {
    "collapsed": false,
    "pycharm": {
     "name": "#%% md\n"
    }
   }
  },
  {
   "cell_type": "code",
   "execution_count": 10,
   "outputs": [],
   "source": [
    "# Trying out LinearRegression() model\n",
    "\n",
    "def lregModel(data1, data2, spikeTestData, positionTestData):\n",
    "    lreg = LinearRegression().fit(data1, data2)\n",
    "    print(lreg)\n",
    "\n",
    "    r_sq = lreg.score(data1, data2)\n",
    "    print('Training data coefficient of determination:', r_sq)\n",
    "\n",
    "    # Make predictions using the testing set\n",
    "    predictionData = lreg.predict(spikesTestData)\n",
    "\n",
    "    # The mean squared error\n",
    "    print(\"Testing data mean squared error: %.2f\" % mean_squared_error(positionTestData, predictionData))\n",
    "    # The coefficient of determination: 1 is perfect prediction\n",
    "    print(\"Testing data coefficient of determination: %.2f\" % r2_score(positionTestData, predictionData))"
   ],
   "metadata": {
    "collapsed": false,
    "pycharm": {
     "name": "#%%\n"
    }
   }
  },
  {
   "cell_type": "code",
   "execution_count": 11,
   "outputs": [
    {
     "name": "stdout",
     "output_type": "stream",
     "text": [
      "Linear regression of neurons firing to Monkey's finger x position:\n",
      "\n",
      "LinearRegression()\n",
      "Training data coefficient of determination: 0.0039943023709970715\n",
      "Testing data mean squared error: 2416.11\n",
      "Testing data coefficient of determination: -0.00\n",
      "\n",
      "\n",
      "\n",
      "Linear regression of neurons firing to Monkey's finger y position:\n",
      "\n",
      "LinearRegression()\n",
      "Training data coefficient of determination: 0.006535524747832477\n",
      "Testing data mean squared error: 697.73\n",
      "Testing data coefficient of determination: -0.01\n"
     ]
    }
   ],
   "source": [
    "print(\"Linear regression of neurons firing to Monkey's finger x position:\\n\")\n",
    "lregModel(spikesTrainData, xpositionTrainData, spikesTestData, xpositionTestData)\n",
    "\n",
    "print(\"\\n\\n\\nLinear regression of neurons firing to Monkey's finger y position:\\n\")\n",
    "lregModel(spikesTrainData, ypositionTrainData, spikesTestData, ypositionTestData)"
   ],
   "metadata": {
    "collapsed": false,
    "pycharm": {
     "name": "#%%\n"
    }
   }
  },
  {
   "cell_type": "markdown",
   "source": [
    "### Trying Kalman Filter"
   ],
   "metadata": {
    "collapsed": false,
    "pycharm": {
     "name": "#%% md\n"
    }
   }
  },
  {
   "cell_type": "code",
   "execution_count": 12,
   "outputs": [],
   "source": [
    "f = KalmanFilter (dim_x=len(spikesTrainData), dim_z=1)\n",
    "\n",
    "# Assign the initial value for the state (position and velocity). You can do this with a two dimensional array like so:\n",
    "f.x = np.transpose(spikesTrainData)\n",
    "\n",
    "#Define the state transition matrix:\n",
    "f.F = binned_spikes_train[1].reshape(-1,1)\n",
    "\n",
    "# Define the measurement function:\n",
    "f.H = xpositionTrainData\n",
    "\n",
    "#Define the covariance matrix. Here I take advantage of the fact that P already contains np.eye(dim_x), and just multiply by the uncertainty:\n",
    "f.P *= 1000.\n",
    "\n",
    "#Now assign the measurement noise. Here the dimension is 1x1, so I can use a scalar\n",
    "f.R = 5"
   ],
   "metadata": {
    "collapsed": false,
    "pycharm": {
     "name": "#%%\n"
    }
   }
  },
  {
   "cell_type": "code",
   "execution_count": 13,
   "outputs": [
    {
     "ename": "ValueError",
     "evalue": "shapes (20000,1) and (20000,20000) not aligned: 1 (dim 1) != 20000 (dim 0)",
     "output_type": "error",
     "traceback": [
      "\u001B[0;31m---------------------------------------------------------------------------\u001B[0m",
      "\u001B[0;31mValueError\u001B[0m                                Traceback (most recent call last)",
      "Input \u001B[0;32mIn [13]\u001B[0m, in \u001B[0;36m<cell line: 1>\u001B[0;34m()\u001B[0m\n\u001B[1;32m      1\u001B[0m \u001B[38;5;28;01mfor\u001B[39;00m i \u001B[38;5;129;01min\u001B[39;00m \u001B[38;5;28mrange\u001B[39m(\u001B[38;5;241m20000\u001B[39m):\n\u001B[1;32m      2\u001B[0m     z \u001B[38;5;241m=\u001B[39m spikesTestData\n\u001B[0;32m----> 3\u001B[0m     \u001B[43mf\u001B[49m\u001B[38;5;241;43m.\u001B[39;49m\u001B[43mpredict\u001B[49m\u001B[43m(\u001B[49m\u001B[43m)\u001B[49m\n\u001B[1;32m      4\u001B[0m     f\u001B[38;5;241m.\u001B[39mupdate(z)\n\u001B[1;32m      5\u001B[0m     \u001B[38;5;28mprint\u001B[39m(f\u001B[38;5;241m.\u001B[39mx)\n",
      "File \u001B[0;32m/opt/homebrew/Caskroom/miniforge/base/envs/RandomProcesses/lib/python3.9/site-packages/filterpy/kalman/kalman_filter.py:484\u001B[0m, in \u001B[0;36mKalmanFilter.predict\u001B[0;34m(self, u, B, F, Q)\u001B[0m\n\u001B[1;32m    481\u001B[0m     \u001B[38;5;28mself\u001B[39m\u001B[38;5;241m.\u001B[39mx \u001B[38;5;241m=\u001B[39m dot(F, \u001B[38;5;28mself\u001B[39m\u001B[38;5;241m.\u001B[39mx)\n\u001B[1;32m    483\u001B[0m \u001B[38;5;66;03m# P = FPF' + Q\u001B[39;00m\n\u001B[0;32m--> 484\u001B[0m \u001B[38;5;28mself\u001B[39m\u001B[38;5;241m.\u001B[39mP \u001B[38;5;241m=\u001B[39m \u001B[38;5;28mself\u001B[39m\u001B[38;5;241m.\u001B[39m_alpha_sq \u001B[38;5;241m*\u001B[39m dot(\u001B[43mdot\u001B[49m\u001B[43m(\u001B[49m\u001B[43mF\u001B[49m\u001B[43m,\u001B[49m\u001B[43m \u001B[49m\u001B[38;5;28;43mself\u001B[39;49m\u001B[38;5;241;43m.\u001B[39;49m\u001B[43mP\u001B[49m\u001B[43m)\u001B[49m, F\u001B[38;5;241m.\u001B[39mT) \u001B[38;5;241m+\u001B[39m Q\n\u001B[1;32m    486\u001B[0m \u001B[38;5;66;03m# save prior\u001B[39;00m\n\u001B[1;32m    487\u001B[0m \u001B[38;5;28mself\u001B[39m\u001B[38;5;241m.\u001B[39mx_prior \u001B[38;5;241m=\u001B[39m \u001B[38;5;28mself\u001B[39m\u001B[38;5;241m.\u001B[39mx\u001B[38;5;241m.\u001B[39mcopy()\n",
      "File \u001B[0;32m<__array_function__ internals>:180\u001B[0m, in \u001B[0;36mdot\u001B[0;34m(*args, **kwargs)\u001B[0m\n",
      "\u001B[0;31mValueError\u001B[0m: shapes (20000,1) and (20000,20000) not aligned: 1 (dim 1) != 20000 (dim 0)"
     ]
    }
   ],
   "source": [
    "for i in range(20000):\n",
    "    z = spikesTestData\n",
    "    f.predict()\n",
    "    f.update(z)\n",
    "    print(f.x)"
   ],
   "metadata": {
    "collapsed": false,
    "pycharm": {
     "name": "#%%\n"
    }
   }
  },
  {
   "cell_type": "markdown",
   "source": [
    "### Trying Wiener Filter"
   ],
   "metadata": {
    "collapsed": false,
    "pycharm": {
     "name": "#%% md\n"
    }
   }
  },
  {
   "cell_type": "code",
   "execution_count": null,
   "outputs": [],
   "source": [
    "\n",
    "\n",
    "\n"
   ],
   "metadata": {
    "collapsed": false,
    "pycharm": {
     "name": "#%%\n"
    }
   }
  }
 ],
 "metadata": {
  "kernelspec": {
   "display_name": "Python 3 (ipykernel)",
   "language": "python",
   "name": "python3"
  },
  "language_info": {
   "codemirror_mode": {
    "name": "ipython",
    "version": 3
   },
   "file_extension": ".py",
   "mimetype": "text/x-python",
   "name": "python",
   "nbconvert_exporter": "python",
   "pygments_lexer": "ipython3",
   "version": "3.9.12"
  }
 },
 "nbformat": 4,
 "nbformat_minor": 5
}