{
 "cells": [
  {
   "cell_type": "markdown",
   "metadata": {
    "collapsed": true,
    "pycharm": {
     "name": "#%% md\n"
    }
   },
   "source": [
    "                                                                                       #### Project 1\n",
    "\n",
    "Examine real life data from Philadelphia Bike Share program.\n",
    "In this case, the data is located in the data.csv file.\n",
    "Each file contains comprehensive ride information from a\n",
    "three-month period. You only need to analyze one of them.\n",
    "\n",
    "1) Select data file to work with. Download it, open it\n",
    "in Excel, and familiarize yourself with its contents.\n",
    "\n",
    "2) Figure out how to import the data into Python/Jupyter.\n",
    "You can use the csv library or the pandas library.\n",
    "\n",
    "3) Determine and plot the probability mass function of\n",
    "average number of rides per day. What are the expected\n",
    "value and variance?\n",
    "\n",
    "4) Determine and plot the conditional probability mass\n",
    "function of the average number of rides at night (defined\n",
    "as 6PM-6AM). What are the expected value and variance?\n",
    "\n",
    "5) Determine and plot the probability mass function of the\n",
    "average number of rides as a function of hour (0-23).\n",
    "What are the expected value and variance.\n",
    "\n",
    "6) Compute the correlation (*not covariance*) between time\n",
    "of dat (hour and minute) and number of rides.\n",
    "\n",
    "7) Limiting yourself to rides taken between 4:30 and 6:30PM\n",
    "on weekdays, how well does a Poisson process model the rate\n",
    "at which bikes are checked out."
   ]
  },
  {
   "cell_type": "markdown",
   "source": [
    "## Step 1"
   ],
   "metadata": {
    "collapsed": false,
    "pycharm": {
     "name": "#%% md\n"
    }
   },
   "outputs": [],
   "execution_count": 1
  },
  {
   "cell_type": "code",
   "execution_count": 111,
   "outputs": [],
   "source": [
    "import numpy as np\n",
    "import matplotlib.pyplot as plt\n",
    "from sklearn.cluster import KMeans\n",
    "from sklearn.decomposition import PCA\n",
    "from sklearn.decomposition import KernelPCA\n",
    "from sklearn.metrics import confusion_matrix\n",
    "from sklearn.mixture import GaussianMixture as GMM\n",
    "import pandas\n",
    "import re\n",
    "import statistics"
   ],
   "metadata": {
    "collapsed": false,
    "pycharm": {
     "name": "#%%\n"
    }
   }
  },
  {
   "cell_type": "code",
   "execution_count": 29,
   "outputs": [
    {
     "name": "stderr",
     "output_type": "stream",
     "text": [
      "/var/folders/q4/sq902pw91nbgxz6d4gj0qbcc0000gn/T/ipykernel_1262/3197519841.py:1: DtypeWarning: Columns (10) have mixed types. Specify dtype option on import or set low_memory=False.\n",
      "  dataFrame = pandas.read_csv('data.csv')\n"
     ]
    }
   ],
   "source": [
    "dataFrame = pandas.read_csv('data.csv')"
   ],
   "metadata": {
    "collapsed": false,
    "pycharm": {
     "name": "#%%\n"
    }
   }
  },
  {
   "cell_type": "markdown",
   "source": [
    "## Step 2"
   ],
   "metadata": {
    "collapsed": false,
    "pycharm": {
     "name": "#%% md\n"
    }
   }
  },
  {
   "cell_type": "code",
   "execution_count": 44,
   "outputs": [
    {
     "name": "stdout",
     "output_type": "stream",
     "text": [
      "['4/6/21 16:04' '4/6/21 16:05' '4/6/21 16:06' ... '4/25/21 17:07'\n",
      " '4/25/21 17:08' '4/25/21 17:08']\n",
      "232195\n"
     ]
    },
    {
     "data": {
      "text/plain": "'4/1/21'"
     },
     "execution_count": 44,
     "metadata": {},
     "output_type": "execute_result"
    }
   ],
   "source": [
    "startTime = dataFrame[\"start_time\"].to_numpy()\n",
    "print(startTime[10000:50000])\n",
    "print(startTime.size)\n",
    "\n",
    "#for i in range(0,startTime.size):\n",
    "#     startTime[i] = parser.parse(startTime[i])\n",
    "\n",
    "startTime[0][0:6] # I can use this to get dates\n"
   ],
   "metadata": {
    "collapsed": false,
    "pycharm": {
     "name": "#%%\n"
    }
   }
  },
  {
   "cell_type": "markdown",
   "source": [
    "## Step 3"
   ],
   "metadata": {
    "collapsed": false,
    "pycharm": {
     "name": "#%% md\n"
    }
   }
  },
  {
   "cell_type": "code",
   "execution_count": 55,
   "outputs": [
    {
     "name": "stdout",
     "output_type": "stream",
     "text": [
      "(array(['4/1', '4/10', '4/11', '4/12', '4/13', '4/14', '4/15', '4/16',\n",
      "       '4/17', '4/18', '4/19', '4/2', '4/20', '4/21', '4/22', '4/23',\n",
      "       '4/24', '4/25', '4/26', '4/27', '4/28', '4/29', '4/3', '4/30',\n",
      "       '4/4', '4/5', '4/6', '4/7', '4/8', '4/9', '5/1', '5/10', '5/11',\n",
      "       '5/12', '5/13', '5/14', '5/15', '5/16', '5/17', '5/18', '5/19',\n",
      "       '5/2', '5/20', '5/21', '5/22', '5/23', '5/24', '5/25', '5/26',\n",
      "       '5/27', '5/28', '5/29', '5/3', '5/30', '5/31', '5/4', '5/5', '5/6',\n",
      "       '5/7', '5/8', '5/9', '6/1', '6/10', '6/11', '6/12', '6/13', '6/14',\n",
      "       '6/15', '6/16', '6/17', '6/18', '6/19', '6/2', '6/20', '6/21',\n",
      "       '6/22', '6/23', '6/24', '6/25', '6/26', '6/27', '6/28', '6/29',\n",
      "       '6/3', '6/30', '6/4', '6/5', '6/6', '6/7', '6/8', '6/9'],\n",
      "      dtype='<U4'), array([1294, 3279, 1177, 1483, 2135, 1736, 2009, 1919, 2526, 2672, 2114,\n",
      "       1399, 2556, 1652, 1021, 1634, 2810, 1986, 2151, 2545, 2788, 1958,\n",
      "       1942, 2296, 2051, 2092, 2405, 2183, 2470, 2142, 2780, 2365, 2493,\n",
      "       2894, 3141, 3338, 3822, 3110, 2974, 3223, 3048, 3062, 3129, 3582,\n",
      "       3523, 2844, 2666, 3059, 2467, 3390, 1897,  946, 1760,  909, 3030,\n",
      "       2823, 1878, 2808, 2408, 2168, 1626, 2834, 3100, 2157, 3500, 3079,\n",
      "       2803, 3104, 3262, 3398, 3471, 2708, 3008, 2985, 2534, 2142, 3391,\n",
      "       3462, 3680, 3216, 2752, 2783, 2697, 2076, 2586, 2643, 3119, 2605,\n",
      "       2724, 2073, 2715]))\n"
     ]
    }
   ],
   "source": [
    "# This for loop will give me a new array with only month and day values\n",
    "dayStartTime = []\n",
    "for i in range(0,len(startTime)):\n",
    "     if startTime[i][3] == \"/\":\n",
    "          dayStartTime.append(startTime[i][0:3])\n",
    "     else:\n",
    "          dayStartTime.append(startTime[i][0:4])\n",
    "\n",
    "# print(len(dayStartTime)) # Checking that we went through every element\n",
    "# print(dayStartTime[0:10]) # Testing that I am getting some elements that make sense\n",
    "\n",
    "dayStartTime = np.array(dayStartTime) # to numpy array\n",
    "\n",
    "# print(np.unique(dayStartTime)) # Getting all of the unique dates"
   ],
   "metadata": {
    "collapsed": false,
    "pycharm": {
     "name": "#%%\n"
    }
   }
  },
  {
   "cell_type": "code",
   "execution_count": 78,
   "outputs": [
    {
     "name": "stdout",
     "output_type": "stream",
     "text": [
      "[['4/1' '1294']\n",
      " ['4/10' '3279']\n",
      " ['4/11' '1177']\n",
      " ['4/12' '1483']\n",
      " ['4/13' '2135']\n",
      " ['4/14' '1736']\n",
      " ['4/15' '2009']\n",
      " ['4/16' '1919']\n",
      " ['4/17' '2526']\n",
      " ['4/18' '2672']\n",
      " ['4/19' '2114']\n",
      " ['4/2' '1399']\n",
      " ['4/20' '2556']\n",
      " ['4/21' '1652']\n",
      " ['4/22' '1021']\n",
      " ['4/23' '1634']\n",
      " ['4/24' '2810']\n",
      " ['4/25' '1986']\n",
      " ['4/26' '2151']\n",
      " ['4/27' '2545']\n",
      " ['4/28' '2788']\n",
      " ['4/29' '1958']\n",
      " ['4/3' '1942']\n",
      " ['4/30' '2296']\n",
      " ['4/4' '2051']\n",
      " ['4/5' '2092']\n",
      " ['4/6' '2405']\n",
      " ['4/7' '2183']\n",
      " ['4/8' '2470']\n",
      " ['4/9' '2142']\n",
      " ['5/1' '2780']\n",
      " ['5/10' '2365']\n",
      " ['5/11' '2493']\n",
      " ['5/12' '2894']\n",
      " ['5/13' '3141']\n",
      " ['5/14' '3338']\n",
      " ['5/15' '3822']\n",
      " ['5/16' '3110']\n",
      " ['5/17' '2974']\n",
      " ['5/18' '3223']\n",
      " ['5/19' '3048']\n",
      " ['5/2' '3062']\n",
      " ['5/20' '3129']\n",
      " ['5/21' '3582']\n",
      " ['5/22' '3523']\n",
      " ['5/23' '2844']\n",
      " ['5/24' '2666']\n",
      " ['5/25' '3059']\n",
      " ['5/26' '2467']\n",
      " ['5/27' '3390']\n",
      " ['5/28' '1897']\n",
      " ['5/29' '946']\n",
      " ['5/3' '1760']\n",
      " ['5/30' '909']\n",
      " ['5/31' '3030']\n",
      " ['5/4' '2823']\n",
      " ['5/5' '1878']\n",
      " ['5/6' '2808']\n",
      " ['5/7' '2408']\n",
      " ['5/8' '2168']\n",
      " ['5/9' '1626']\n",
      " ['6/1' '2834']\n",
      " ['6/10' '3100']\n",
      " ['6/11' '2157']\n",
      " ['6/12' '3500']\n",
      " ['6/13' '3079']\n",
      " ['6/14' '2803']\n",
      " ['6/15' '3104']\n",
      " ['6/16' '3262']\n",
      " ['6/17' '3398']\n",
      " ['6/18' '3471']\n",
      " ['6/19' '2708']\n",
      " ['6/2' '3008']\n",
      " ['6/20' '2985']\n",
      " ['6/21' '2534']\n",
      " ['6/22' '2142']\n",
      " ['6/23' '3391']\n",
      " ['6/24' '3462']\n",
      " ['6/25' '3680']\n",
      " ['6/26' '3216']\n",
      " ['6/27' '2752']\n",
      " ['6/28' '2783']\n",
      " ['6/29' '2697']\n",
      " ['6/3' '2076']\n",
      " ['6/30' '2586']\n",
      " ['6/4' '2643']\n",
      " ['6/5' '3119']\n",
      " ['6/6' '2605']\n",
      " ['6/7' '2724']\n",
      " ['6/8' '2073']\n",
      " ['6/9' '2715']]\n"
     ]
    }
   ],
   "source": [
    "#get unique values and counts of each value\n",
    "unique, counts = np.unique(dayStartTime, return_counts=True)\n",
    "\n",
    "#display unique values and counts side by side\n",
    "print(np.asarray((unique, counts)).T)"
   ],
   "metadata": {
    "collapsed": false,
    "pycharm": {
     "name": "#%%\n"
    }
   }
  },
  {
   "cell_type": "code",
   "execution_count": 89,
   "outputs": [
    {
     "name": "stdout",
     "output_type": "stream",
     "text": [
      "['4/1', '4/2', '4/3', '4/4', '4/5', '4/6', '4/7', '4/8', '4/9', '4/10', '4/11', '4/12', '4/13', '4/14', '4/15', '4/16', '4/17', '4/18', '4/19', '4/20', '4/21', '4/22', '4/23', '4/24', '4/25', '4/26', '4/27', '4/28', '4/29', '4/30', '5/1', '5/2', '5/3', '5/4', '5/5', '5/6', '5/7', '5/8', '5/9', '5/10', '5/11', '5/12', '5/13', '5/14', '5/15', '5/16', '5/17', '5/18', '5/19', '5/20', '5/21', '5/22', '5/23', '5/24', '5/25', '5/26', '5/27', '5/28', '5/29', '5/30', '5/31', '6/1', '6/2', '6/3', '6/4', '6/5', '6/6', '6/7', '6/8', '6/9', '6/10', '6/11', '6/12', '6/13', '6/14', '6/15', '6/16', '6/17', '6/18', '6/19', '6/20', '6/21', '6/22', '6/23', '6/24', '6/25', '6/26', '6/27', '6/28', '6/29', '6/30']\n"
     ]
    }
   ],
   "source": [
    "daysApril = [unique[0]] + [unique[11]] + [unique[22]] + [list(unique[24:30])][0] +\\\n",
    "     [list(unique[1:11])][0] + [list(unique[12:22])][0] + [unique[23]]\n",
    "daysMay = [unique[30]] + [unique[41]] + [unique[52]] + [list(unique[55:61])][0] +\\\n",
    "     [list(unique[31:41])][0] + [list(unique[42:52])][0] + [list(unique[53:55])][0]\n",
    "daysJune = [unique[61]] + [unique[72]] + [unique[83]] + [list(unique[85:91])][0] +\\\n",
    "     [list(unique[62:72])][0] + [list(unique[73:83])][0] + [unique[84]]\n",
    "\n",
    "orderedDays = daysApril + daysMay + daysJune\n",
    "print(orderedDays)"
   ],
   "metadata": {
    "collapsed": false,
    "pycharm": {
     "name": "#%%\n"
    }
   }
  },
  {
   "cell_type": "code",
   "execution_count": 91,
   "outputs": [
    {
     "name": "stdout",
     "output_type": "stream",
     "text": [
      "[2780, 3062, 1760, 2823, 1878, 2808, 2408, 2168, 1626, 2365, 2493, 2894, 3141, 3338, 3822, 3110, 2974, 3223, 3048, 3129, 3582, 3523, 2844, 2666, 3059, 2467, 3390, 1897, 946, 909, 3030, 2834, 3008, 2076, 2643, 3119, 2605, 2724, 2073, 2715, 3100, 2157, 3500, 3079, 2803, 3104, 3262, 3398, 3471, 2708, 2985, 2534, 2142, 3391, 3462, 3680, 3216, 2752, 2783, 2697, 2586, 1294, 1399, 1942, 2051, 2092, 2405, 2183, 2470, 2142, 3279, 1177, 1483, 2135, 1736, 2009, 1919, 2526, 2672, 2114, 2556, 1652, 1021, 1634, 2810, 1986, 2151, 2545, 2788, 1958, 2296]\n"
     ]
    }
   ],
   "source": [
    "countApril = [counts[0]] + [counts[11]] + [counts[22]] + [list(counts[24:30])][0] +\\\n",
    "     [list(counts[1:11])][0] + [list(counts[12:22])][0] + [counts[23]]\n",
    "countMay = [counts[30]] + [counts[41]] + [counts[52]] + [list(counts[55:61])][0] +\\\n",
    "     [list(counts[31:41])][0] + [list(counts[42:52])][0] + [list(counts[53:55])][0]\n",
    "countJune = [counts[61]] + [counts[72]] + [counts[83]] + [list(counts[85:91])][0] +\\\n",
    "     [list(counts[62:72])][0] + [list(counts[73:83])][0] + [counts[84]]\n",
    "\n",
    "orderedCounts = countMay + countJune + countApril\n",
    "print(orderedCounts)"
   ],
   "metadata": {
    "collapsed": false,
    "pycharm": {
     "name": "#%%\n"
    }
   }
  },
  {
   "cell_type": "code",
   "execution_count": 97,
   "outputs": [
    {
     "data": {
      "text/plain": "<Figure size 640x480 with 1 Axes>",
      "image/png": "[encoded data removed]"
     },
     "metadata": {},
     "output_type": "display_data"
    }
   ],
   "source": [
    "plt.bar(orderedDays, orderedCounts)\n",
    "plt.xlabel('Day within ')\n",
    "plt.ylabel('Number of rides')\n",
    "plt.title('Number or rides per day in 2021 Q2')\n",
    "plt.show()"
   ],
   "metadata": {
    "collapsed": false,
    "pycharm": {
     "name": "#%%\n"
    }
   }
  },
  {
   "cell_type": "code",
   "execution_count": 100,
   "outputs": [
    {
     "name": "stdout",
     "output_type": "stream",
     "text": [
      "[0.0119727  0.01318719 0.00757984 0.01215788 0.00808803 0.01209328\n",
      " 0.01037059 0.00933698 0.00700273 0.0101854  0.01073667 0.01246366\n",
      " 0.01352742 0.01437585 0.0164603  0.01339391 0.0128082  0.01388057\n",
      " 0.0131269  0.01347574 0.01542669 0.01517259 0.01224833 0.01148173\n",
      " 0.01317427 0.01062469 0.0145998  0.00816986 0.00407416 0.00391481\n",
      " 0.01304938 0.01220526 0.01295463 0.00894076 0.01138267 0.01343268\n",
      " 0.01121902 0.01173152 0.00892784 0.01169276 0.01335085 0.00928961\n",
      " 0.01507354 0.01326041 0.01207175 0.01336807 0.01404854 0.01463425\n",
      " 0.01494864 0.01166261 0.01285557 0.01091324 0.009225   0.0146041\n",
      " 0.01490988 0.01584875 0.01385043 0.01185211 0.01198562 0.01161524\n",
      " 0.01113719 0.0055729  0.00602511 0.00836366 0.00883309 0.00900967\n",
      " 0.01035767 0.00940158 0.01063761 0.009225   0.01412175 0.00506902\n",
      " 0.00638687 0.00919486 0.00747647 0.00865221 0.00826461 0.01087879\n",
      " 0.01150757 0.00910442 0.01100799 0.00711471 0.00439717 0.00703719\n",
      " 0.0121019  0.00855316 0.00926377 0.01096062 0.01200715 0.00843257\n",
      " 0.00988824]\n"
     ]
    }
   ],
   "source": [
    "totalRides = np.sum(counts)\n",
    "dayProb = orderedCounts/totalRides\n",
    "print(dayProb)"
   ],
   "metadata": {
    "collapsed": false,
    "pycharm": {
     "name": "#%%\n"
    }
   }
  },
  {
   "cell_type": "code",
   "execution_count": 102,
   "outputs": [],
   "source": [
    "def expected_value(values, weights):\n",
    "    values = np.asarray(values)\n",
    "    weights = np.asarray(weights)\n",
    "    return (values * weights).sum() / weights.sum()"
   ],
   "metadata": {
    "collapsed": false,
    "pycharm": {
     "name": "#%%\n"
    }
   }
  },
  {
   "cell_type": "code",
   "execution_count": 116,
   "outputs": [
    {
     "name": "stdout",
     "output_type": "stream",
     "text": [
      "Expected value is: 2720 rides\n",
      "The variance is: 435052\n"
     ]
    }
   ],
   "source": [
    "print(\"Expected value is: \" + str(int(expected_value(orderedCounts,dayProb))) +\n",
    "      \" rides\")\n",
    "print(\"The variance is: \" + str(statistics.variance(orderedCounts)))"
   ],
   "metadata": {
    "collapsed": false,
    "pycharm": {
     "name": "#%%\n"
    }
   }
  }
 ],
 "metadata": {
  "kernelspec": {
   "display_name": "Python 3",
   "language": "python",
   "name": "python3"
  },
  "language_info": {
   "codemirror_mode": {
    "name": "ipython",
    "version": 2
   },
   "file_extension": ".py",
   "mimetype": "text/x-python",
   "name": "python",
   "nbconvert_exporter": "python",
   "pygments_lexer": "ipython2",
   "version": "2.7.6"
  }
 },
 "nbformat": 4,
 "nbformat_minor": 0
}