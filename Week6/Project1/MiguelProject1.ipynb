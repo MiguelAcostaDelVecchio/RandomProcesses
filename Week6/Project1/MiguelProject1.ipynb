{
 "cells": [
  {
   "cell_type": "markdown",
   "metadata": {
    "collapsed": true,
    "pycharm": {
     "name": "#%% md\n"
    }
   },
   "source": [
    "#### Project 1\n",
    "\n",
    "Examine real life data from Philadelphia Bike Share program.\n",
    "In this case, the data is located in the data.csv file.\n",
    "Each file contains comprehensive ride information from a\n",
    "three-month period. You only need to analyze one of them.\n",
    "\n",
    "1) Select data file to work with. Download it, open it\n",
    "in Excel, and familiarize yourself with its contents.\n",
    "\n",
    "2) Figure out how to import the data into Python/Jupyter.\n",
    "You can use the csv library or the pandas library.\n",
    "\n",
    "3) Determine and plot the probability mass function of\n",
    "average number of rides per day. What are the expected\n",
    "value and variance?\n",
    "\n",
    "4) Determine and plot the conditional probability mass\n",
    "function of the average number of rides at night (defined\n",
    "as 6PM-6AM). What are the expected value and variance?\n",
    "\n",
    "5) Determine and plot the probability mass function of the\n",
    "average number of rides as a function of hour (0-23).\n",
    "What are the expected value and variance.\n",
    "\n",
    "6) Compute the correlation (*not covariance*) between time\n",
    "of dat (hour and minute) and number of rides.\n",
    "\n",
    "7) Limiting yourself to rides taken between 4:30 and 6:30PM\n",
    "on weekdays, how well does a Poisson process model the rate\n",
    "at which bikes are checked out."
   ]
  },
  {
   "cell_type": "markdown",
   "source": [
    "## Step 1"
   ],
   "metadata": {
    "collapsed": false,
    "pycharm": {
     "name": "#%% md\n"
    }
   },
   "outputs": [],
   "execution_count": 1
  },
  {
   "cell_type": "code",
   "execution_count": 14,
   "outputs": [],
   "source": [
    "import numpy as np\n",
    "import matplotlib.pyplot as plt\n",
    "from sklearn.cluster import KMeans\n",
    "from sklearn.decomposition import PCA\n",
    "from sklearn.decomposition import KernelPCA\n",
    "from sklearn.metrics import confusion_matrix\n",
    "from sklearn.mixture import GaussianMixture as GMM\n",
    "import pandas\n",
    "from dateutil import parser"
   ],
   "metadata": {
    "collapsed": false,
    "pycharm": {
     "name": "#%%\n"
    }
   }
  },
  {
   "cell_type": "code",
   "execution_count": 19,
   "outputs": [
    {
     "name": "stderr",
     "output_type": "stream",
     "text": [
      "/var/folders/q4/sq902pw91nbgxz6d4gj0qbcc0000gn/T/ipykernel_1541/4289307070.py:1: DtypeWarning: Columns (10) have mixed types. Specify dtype option on import or set low_memory=False.\n",
      "  dataFrame = pandas.read_csv('data.csv')\n"
     ]
    },
    {
     "name": "stdout",
     "output_type": "stream",
     "text": [
      "['4/1/21 0:44' '4/1/21 1:49' '4/1/21 2:25' '4/1/21 6:19' '4/1/21 6:33'\n",
      " '4/1/21 6:34' '4/1/21 6:37' '4/1/21 6:39' '4/1/21 6:40' '4/1/21 6:40']\n"
     ]
    }
   ],
   "source": [
    "dataFrame = pandas.read_csv('data.csv')\n",
    "startTime = dataFrame[\"start_time\"].to_numpy()\n",
    "print(startTime[0:10])\n",
    "for i in range(0,startTime.size):\n",
    "     startTime[i] = parser.parse(startTime[i])"
   ],
   "metadata": {
    "collapsed": false,
    "pycharm": {
     "name": "#%%\n"
    }
   }
  },
  {
   "cell_type": "code",
   "execution_count": 16,
   "outputs": [
    {
     "name": "stdout",
     "output_type": "stream",
     "text": [
      "[datetime.datetime(2021, 4, 1, 0, 44) datetime.datetime(2021, 4, 1, 1, 49)\n",
      " datetime.datetime(2021, 4, 1, 2, 25) ...\n",
      " datetime.datetime(2021, 6, 30, 23, 56)\n",
      " datetime.datetime(2021, 6, 30, 23, 57)\n",
      " datetime.datetime(2021, 6, 30, 23, 58)]\n"
     ]
    }
   ],
   "source": [
    "print(startTime)"
   ],
   "metadata": {
    "collapsed": false,
    "pycharm": {
     "name": "#%%\n"
    }
   }
  }
 ],
 "metadata": {
  "kernelspec": {
   "display_name": "Python 3",
   "language": "python",
   "name": "python3"
  },
  "language_info": {
   "codemirror_mode": {
    "name": "ipython",
    "version": 2
   },
   "file_extension": ".py",
   "mimetype": "text/x-python",
   "name": "python",
   "nbconvert_exporter": "python",
   "pygments_lexer": "ipython2",
   "version": "2.7.6"
  }
 },
 "nbformat": 4,
 "nbformat_minor": 0
}