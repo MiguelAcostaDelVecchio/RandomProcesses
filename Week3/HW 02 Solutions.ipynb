{
 "cells": [
  {
   "cell_type": "code",
   "execution_count": 1,
   "id": "5320e9ae",
   "metadata": {},
   "outputs": [],
   "source": [
    "import numpy as np\n",
    "data = np.load('hw2.npy')\n",
    "x = data[:,0]\n",
    "y = data[:,1]"
   ]
  },
  {
   "cell_type": "code",
   "execution_count": 2,
   "id": "4f14dee5",
   "metadata": {},
   "outputs": [],
   "source": [
    "# define simple helper function\n",
    "def pct_err(theoretical , measured):\n",
    "    return (measured - theoretical) / theoretical"
   ]
  },
  {
   "cell_type": "code",
   "execution_count": 3,
   "id": "c1d83a2d",
   "metadata": {},
   "outputs": [],
   "source": [
    "# define simple helper function\n",
    "def display_results(name , theoretical , measured):\n",
    "    print(\n",
    "        f\"{name:12s}\" + \" = \", \n",
    "        f\"{measured.mean():0.3f}\" + \"\\t err: \" + \n",
    "        f\"{100*pct_err(theoretical,measured):6.2f}\" + \"%\"\n",
    "    )    "
   ]
  },
  {
   "cell_type": "markdown",
   "id": "73b87158",
   "metadata": {},
   "source": [
    "## Sample Space - Finest Grain Detail\n",
    "The easiest way to start is by writing out the full sample space, as follows:\n",
    "\n",
    "| x   | y   | xy  | pr(x) | pr(y given x) | pr(x and y) |\n",
    "| :-: | :-: | :-: | :-:   | :-:   | :-:    |\n",
    "|2|0|0|0.028|0.333|0.009|\n",
    "|2|1|2|0.028|0.333|0.009|\n",
    "|2|2|4|0.028|0.333|0.009|\n",
    "|3|0|0|0.056|0.333|0.019|\n",
    "|3|1|3|0.056|0.333|0.019|\n",
    "|3|2|6|0.056|0.333|0.019|\n",
    "|4|0|0|0.083|0.333|0.028|\n",
    "|4|1|4|0.083|0.333|0.028|\n",
    "|4|2|8|0.083|0.333|0.028|\n",
    "|5|0|0|0.111|0.333|0.037|\n",
    "|5|1|5|0.111|0.333|0.037|\n",
    "|5|2|10|0.111|0.333|0.037|\n",
    "|6|1|6|0.139|0.250|0.035|\n",
    "|6|2|12|0.139|0.250|0.035|\n",
    "|6|3|18|0.139|0.500|0.069|\n",
    "|7|1|7|0.167|0.250|0.042|\n",
    "|7|2|14|0.167|0.250|0.042|\n",
    "|7|3|21|0.167|0.500|0.083|\n",
    "|8|1|8|0.139|0.250|0.035|\n",
    "|8|2|16|0.139|0.250|0.035|\n",
    "|8|3|24|0.139|0.500|0.069|\n",
    "|9|1|9|0.111|0.250|0.028|\n",
    "|9|2|18|0.111|0.250|0.028|\n",
    "|9|3|27|0.111|0.500|0.056|\n",
    "|10|1|10|0.083|0.250|0.021|\n",
    "|10|2|20|0.083|0.250|0.021|\n",
    "|10|3|30|0.083|0.500|0.042|\n",
    "|11|1|11|0.056|0.250|0.014|\n",
    "|11|2|22|0.056|0.250|0.014|\n",
    "|11|3|33|0.056|0.500|0.028|\n",
    "|12|1|12|0.028|0.250|0.007|\n",
    "|12|2|24|0.028|0.250|0.007|\n",
    "|12|3|36|0.028|0.500|0.014|\n"
   ]
  },
  {
   "cell_type": "markdown",
   "id": "b72df76f",
   "metadata": {},
   "source": [
    "## Marginal for pr(x)\n",
    "Sum the probabilities of pr(x and y) for each corresponding value of x:\n",
    "\n",
    "| x   | pr(x)  |\n",
    "| :-: | :-: |\n",
    "|2|0.028|\n",
    "|3|0.056|\n",
    "|4|0.083|\n",
    "|5|0.111|\n",
    "|6|0.139|\n",
    "|7|0.167|\n",
    "|8|0.139|\n",
    "|9|0.111|\n",
    "|10|0.083|\n",
    "|11|0.056|\n",
    "|12|0.028|\n",
    "\n",
    "From here, we can get the $E(x)$ and $Var(x)$:\n",
    "\n",
    "$$E(x) = 7.0$$\n",
    "\n",
    "$$Var(x) = E(x^2) - E^2(x)$$\n",
    "$$\n",
    "= 54.8 - 7.0^2 = 5.8\n",
    "$$\n"
   ]
  },
  {
   "cell_type": "code",
   "execution_count": 4,
   "id": "022f28bd",
   "metadata": {},
   "outputs": [
    {
     "name": "stdout",
     "output_type": "stream",
     "text": [
      "E  (x)       =  7.005\t err:   0.07%\n",
      "Var(x)       =  5.850\t err:   0.86%\n"
     ]
    }
   ],
   "source": [
    "Ex_theoretical = 7.0\n",
    "Vx_theoretical = 5.8\n",
    "\n",
    "display_results(\"E  (x)\" , Ex_theoretical , x.mean())\n",
    "display_results(\"Var(x)\" , Vx_theoretical , x.var ())"
   ]
  },
  {
   "cell_type": "markdown",
   "id": "65b412f1",
   "metadata": {},
   "source": [
    "## Marginal for pr(y)\n",
    "Sum the probabilities of pr(x and y) for each corresponding value of y:\n",
    "\n",
    "| x   | pr(y)  |\n",
    "| :-: | :-: |\n",
    "|0|0.093|\n",
    "|1|0.273|\n",
    "|2|0.273|\n",
    "|3|0.361|\n",
    "\n",
    "From here, $E(y)$ and $Var(y)$ are straightforward:\n",
    "\n",
    "$$E(y) = 1.9$$\n",
    "\n",
    "$$Var(y) = E(y^2) - E^2(y) = 4.6 - (1.9)^2 = 0.995$$"
   ]
  },
  {
   "cell_type": "code",
   "execution_count": 5,
   "id": "4cd2a85a",
   "metadata": {},
   "outputs": [
    {
     "name": "stdout",
     "output_type": "stream",
     "text": [
      "E  (y)       =  1.909\t err:   0.48%\n",
      "Var(y)       =  0.995\t err:   0.00%\n"
     ]
    }
   ],
   "source": [
    "Ey_theoretical = 1.9\n",
    "Vy_theoretical = 0.995\n",
    "\n",
    "display_results(\"E  (y)\" , Ey_theoretical , y.mean())\n",
    "display_results(\"Var(y)\" , Vy_theoretical , y.var ())"
   ]
  },
  {
   "cell_type": "markdown",
   "id": "2fe627e2",
   "metadata": {},
   "source": [
    "## Conditioning on x>5\n",
    "Because we wrote out the sample space long hand above, conditioning on x>5 is as simple as eliminating the rows that no longer apply and then dividing $pr(x and y)$ through by $pr(x>5)$ in order for the probabilities to add to one:\n",
    "\n",
    "| x   | y   | pr(x and y given x>5) |\n",
    "| :-: | :-: | :-: |\n",
    "|6|1|0.035/0.722=0.048|\n",
    "|6|2|0.035/0.722=0.048|\n",
    "|6|3|0.069/0.722=0.096|\n",
    "|7|1|0.042/0.722=0.058|\n",
    "|7|2|0.042/0.722=0.058|\n",
    "|7|3|0.083/0.722=0.115|\n",
    "|8|1|0.035/0.722=0.048|\n",
    "|8|2|0.035/0.722=0.048|\n",
    "|8|3|0.069/0.722=0.096|\n",
    "|9|1|0.028/0.722=0.038|\n",
    "|9|2|0.028/0.722=0.038|\n",
    "|9|3|0.056/0.722=0.077|\n",
    "|10|1|0.021/0.722=0.029|\n",
    "|10|2|0.021/0.722=0.029|\n",
    "|10|3|0.042/0.722=0.058|\n",
    "|11|1|0.014/0.722=0.019|\n",
    "|11|2|0.014/0.722=0.019|\n",
    "|11|3|0.028/0.722=0.038|\n",
    "|12|1|0.007/0.722=0.010|\n",
    "|12|2|0.007/0.722=0.010|\n",
    "|12|3|0.014/0.722=0.019|\n",
    "\n",
    "With this table in hand, we can easily sum together probabilities for each of the unique values of $y$ in order to get the marginal conditional PMF for y:\n",
    "\n",
    "| y   | pr(y given x>5) |\n",
    "| :-: | :-: |\n",
    "|0|0.000|\n",
    "|1|0.250|\n",
    "|2|0.250|\n",
    "|3|0.500|\n",
    "\n",
    "From here we can easily get expectation and variance:\n",
    "\n",
    "$$E(y | x>5) = 2.25$$\n",
    "\n",
    "$$Var(y | x>5) = E(y^2 | x>5) - E^2(y | x>5) = 5.75 - 2.25^2 = 0.6875$$\n"
   ]
  },
  {
   "cell_type": "code",
   "execution_count": 6,
   "id": "2228f7e6",
   "metadata": {},
   "outputs": [
    {
     "name": "stdout",
     "output_type": "stream",
     "text": [
      "E(y|x>5)     =  2.253\t err:   0.15%\n",
      "Var(y|x>5)   =  0.690\t err:   0.29%\n"
     ]
    }
   ],
   "source": [
    "E_theoretical   = 2.25\n",
    "Var_theoretical = 0.6875\n",
    "\n",
    "display_results(\"E(y|x>5)\" , E_theoretical , y[x>5].mean())\n",
    "display_results(\"Var(y|x>5)\" , Var_theoretical , y[x>5].var())"
   ]
  },
  {
   "cell_type": "markdown",
   "id": "aa5f2073",
   "metadata": {},
   "source": [
    "## Conditioning on x<10\n",
    "We follow the exact same algorithm as above. First we retrieve the original sample space, remove the rows that don't meet criteria for $x<10$ and then normalize by $pr(x<10)$:\n",
    "\n",
    "| x   | y   | pr(x and y given x<10) |\n",
    "| :-: | :-: | :-: |\n",
    "|2|0|0.009/0.833=0.011|\n",
    "|2|1|0.009/0.833=0.011|\n",
    "|2|2|0.009/0.833=0.011|\n",
    "|3|0|0.019/0.833=0.022|\n",
    "|3|1|0.019/0.833=0.022|\n",
    "|3|2|0.019/0.833=0.022|\n",
    "|4|0|0.028/0.833=0.033|\n",
    "|4|1|0.028/0.833=0.033|\n",
    "|4|2|0.028/0.833=0.033|\n",
    "|5|0|0.037/0.833=0.044|\n",
    "|5|1|0.037/0.833=0.044|\n",
    "|5|2|0.037/0.833=0.044|\n",
    "|6|1|0.035/0.833=0.042|\n",
    "|6|2|0.035/0.833=0.042|\n",
    "|6|3|0.069/0.833=0.083|\n",
    "|7|1|0.042/0.833=0.050|\n",
    "|7|2|0.042/0.833=0.050|\n",
    "|7|3|0.083/0.833=0.100|\n",
    "|8|1|0.035/0.833=0.042|\n",
    "|8|2|0.035/0.833=0.042|\n",
    "|8|3|0.069/0.833=0.083|\n",
    "|9|1|0.028/0.833=0.033|\n",
    "|9|2|0.028/0.833=0.033|\n",
    "|9|3|0.056/0.833=0.067|\n",
    "\n",
    "Again, exactly as before, we can sum the probabilities for corresponding values of $y$ to get the marginal PMF:\n",
    "\n",
    "| y   | pr(y given x<10) |\n",
    "| :-: | :-: |\n",
    "|0|0.111|\n",
    "|1|0.278|\n",
    "|2|0.278|\n",
    "|3|0.333|\n",
    "\n",
    "The expectation and variance are:\n",
    "\n",
    "$$E(y | x<10) = 1.833$$\n",
    "\n",
    "$$Var(y | x<10) = 4.389 - 1.833^2 = 1.028$$"
   ]
  },
  {
   "cell_type": "code",
   "execution_count": 7,
   "id": "7876d255",
   "metadata": {},
   "outputs": [
    {
     "name": "stdout",
     "output_type": "stream",
     "text": [
      "E(y|x<10)    =  1.840\t err:   0.38%\n",
      "Var(y|x<10)  =  1.028\t err:   0.01%\n"
     ]
    }
   ],
   "source": [
    "E_theoretical   = 1.833\n",
    "Var_theoretical = 1.028\n",
    "\n",
    "display_results(\"E(y|x<10)\" , E_theoretical , y[x<10].mean())\n",
    "display_results(\"Var(y|x<10)\" , Var_theoretical , y[x<10].var())"
   ]
  },
  {
   "cell_type": "markdown",
   "id": "90e9e718",
   "metadata": {},
   "source": [
    "## Covariance(x,y)\n",
    "The formula for the covariance between $x$ and $y$ is $$Cov(x,y) = E(xy) -E(x)E(y)$$\n",
    "\n",
    "We know from earlier that $E(x) = 7.0$ and $E(y) = 1.9$. So all we need is $E(xy)$. Having laid out the sample space as we did in the very beginning, this is simply the sum of the products in the xy colummn with the pr(xy) column, and should come to $E(xy) = 14.361$. Putting it all together:\n",
    "\n",
    "$$E(xy) - E(x)E(y) = 1.04$$"
   ]
  },
  {
   "cell_type": "code",
   "execution_count": 8,
   "id": "97605ba4",
   "metadata": {},
   "outputs": [
    {
     "name": "stdout",
     "output_type": "stream",
     "text": [
      "E(xy)        =  14.418\t err:   0.41%\n",
      "Cov(xy)      =  1.044\t err:   0.42%\n"
     ]
    }
   ],
   "source": [
    "Exy_theoretical = 14.36\n",
    "Cov_xy_theoretical = 1.04\n",
    "Cov_xy_simulated = np.cov(x,y)[0,1]\n",
    "\n",
    "display_results(\"E(xy)\" , Exy_theoretical , (x*y).mean() )\n",
    "display_results(\"Cov(xy)\" , Cov_xy_theoretical , Cov_xy_simulated )"
   ]
  }
 ],
 "metadata": {
  "kernelspec": {
   "display_name": "Python 3 (ipykernel)",
   "language": "python",
   "name": "python3"
  },
  "language_info": {
   "codemirror_mode": {
    "name": "ipython",
    "version": 3
   },
   "file_extension": ".py",
   "mimetype": "text/x-python",
   "name": "python",
   "nbconvert_exporter": "python",
   "pygments_lexer": "ipython3",
   "version": "3.8.13"
  }
 },
 "nbformat": 4,
 "nbformat_minor": 5
}
