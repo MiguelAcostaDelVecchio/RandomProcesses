{
 "cells": [
  {
   "cell_type": "code",
   "execution_count": 32,
   "id": "9c9fe6a1",
   "metadata": {},
   "outputs": [],
   "source": [
    "import numpy as np\n",
    "import matplotlib.pyplot as plt\n",
    "import hmmlearn.hmm as hmm"
   ]
  },
  {
   "cell_type": "code",
   "execution_count": 2,
   "id": "d8111d3c",
   "metadata": {},
   "outputs": [],
   "source": [
    "model = hmm.CategoricalHMM()\n",
    "model.n_components  = 2     # two states: hot and cold days\n",
    "model.startprob_    = [ 0.8,0.2 ]\n",
    "model.transmat_     = [ [0.6,0.4] , [0.5,0.5] ]\n",
    "model.emissionprob_ = [ [0.2,0.4,0.4] , [0.5,0.4,0.1] ]"
   ]
  },
  {
   "cell_type": "code",
   "execution_count": 19,
   "id": "ad83edd5",
   "metadata": {},
   "outputs": [
    {
     "name": "stdout",
     "output_type": "stream",
     "text": [
      "Problem 1\n",
      "\n",
      "probability of states [2,0,2] is 0.02856 , compared to 0.028562 computed by hand\n",
      "\n",
      "given an observation of [2,0,2], \n",
      "most likely state sequence is  ['H', 'C', 'H']\n",
      "with likelihood 0.01280, compared to 0.0128 computed by hand\n"
     ]
    }
   ],
   "source": [
    "# problem 1\n",
    "print(\"Problem 1\")\n",
    "\n",
    "logprob = model.score([[2,0,2]])\n",
    "print(\"\")\n",
    "print( f\"probability of states [2,0,2] is {np.exp(logprob):0.5f} , compared to 0.028562 computed by hand\" )\n",
    "\n",
    "state_to_temp={0:'H', 1:'C'}\n",
    "\n",
    "\n",
    "logprob,seq = model.decode([[2,0,2]])\n",
    "print(\"\")\n",
    "print(\"given an observation of [2,0,2], \")\n",
    "print(\"most likely state sequence is \" , [state_to_temp[s] for s in seq])\n",
    "print(\"with likelihood \" + f\"{np.exp(logprob):0.5f}\" + \", compared to 0.0128 computed by hand\")"
   ]
  },
  {
   "cell_type": "code",
   "execution_count": null,
   "id": "cdf5c5dc",
   "metadata": {},
   "outputs": [],
   "source": [
    "# problem 2"
   ]
  },
  {
   "cell_type": "markdown",
   "id": "bbef495a",
   "metadata": {},
   "source": [
    "$$pr(day1H | 3,1) = \\frac{pr(3,1|day1H)pr(day1H)}{pr(3,1)}$$\n",
    "\n",
    "Each of these three terms can be computed using the rules of probability:\n",
    "\n",
    "$$pr(3,1 | day1H) = 0.4\\left[0.6\\times0.2\\ +\\ 0.4\\times0.5\\right] = 0.128$$\n",
    "\n",
    "$$pr(day1H) = 0.8$$\n",
    "\n",
    "$$pr(3,1) = H3H1 + H3C1 + C3H1 + C3C1 = 0.8\\times0.6\\times0.4\\times0.2\\ +\\ ...\\ =\\ 0.1094$$\n",
    "\n",
    "Combining we get $$pr(day1 | 3,1) = \\frac{0.128\\ \\times\\ 0.8}{0.1094} = 0.936$$"
   ]
  },
  {
   "cell_type": "code",
   "execution_count": 23,
   "id": "feab0bf0",
   "metadata": {},
   "outputs": [
    {
     "name": "stdout",
     "output_type": "stream",
     "text": [
      "0.93601\n"
     ]
    }
   ],
   "source": [
    "# confirm that pr(day 1 is hot given observations of 3 and then 1 ice cream)\n",
    "_,posteriors = model.score_samples([[2,0]])\n",
    "print(f\"{posteriors[0,0]:0.5f}\")"
   ]
  },
  {
   "cell_type": "code",
   "execution_count": 27,
   "id": "4cf88914",
   "metadata": {},
   "outputs": [],
   "source": [
    "# problem 3\n",
    "data = np.load('hw_09_data.npy')"
   ]
  },
  {
   "cell_type": "code",
   "execution_count": 20,
   "id": "c2f66c04",
   "metadata": {},
   "outputs": [
    {
     "name": "stdout",
     "output_type": "stream",
     "text": [
      "1 -2048.551\n",
      "2 -1866.892\n",
      "3 -2048.295\n",
      "4 -1781.022\n"
     ]
    }
   ],
   "source": [
    "for state_num in range(1,5):\n",
    "    model = hmm.GaussianHMM()\n",
    "    model.n_components = state_num\n",
    "    model.n_iter = 500\n",
    "    model.covariance_type = \"full\"\n",
    "    model.fit(data)\n",
    "    scores = model.score(data)\n",
    "    print(state_num , f\"{scores:0.3f}\")"
   ]
  },
  {
   "cell_type": "markdown",
   "id": "48318534",
   "metadata": {},
   "source": [
    "Best fit is 4 states, followed by 3, and then 2. The data was actually generated using three states. What happens if we try using even more states?"
   ]
  },
  {
   "cell_type": "code",
   "execution_count": 3,
   "id": "c7387760",
   "metadata": {},
   "outputs": [
    {
     "name": "stdout",
     "output_type": "stream",
     "text": [
      "5 -1860.487\n",
      "6 -1781.266\n",
      "7 -1796.862\n",
      "8 -1785.940\n",
      "9 -1772.730\n",
      "10 -1794.585\n"
     ]
    }
   ],
   "source": [
    "for state_num in range(5,11):\n",
    "    model = hmm.GaussianHMM()\n",
    "    model.n_components = state_num\n",
    "    model.n_iter = 500\n",
    "    model.covariance_type = \"full\"\n",
    "    model.fit(data)\n",
    "    scores = model.score(data)\n",
    "    print(state_num , f\"{scores:0.3f}\")"
   ]
  },
  {
   "cell_type": "markdown",
   "id": "3700b210",
   "metadata": {},
   "source": [
    "The quality of fit goes up a bit and then down a bit. We have to be mindful not to overfit the model with too many states.\n",
    "\n",
    "We can also print the state transmission matrix to work out whether all the states are actually being used. If we do this, we see that the two-state solution has the fewest unused states. Even a three state model has one state that is hardly ever used. It's important to look at this and not just rely on the fit/score values."
   ]
  },
  {
   "cell_type": "code",
   "execution_count": 24,
   "id": "c7990568",
   "metadata": {},
   "outputs": [
    {
     "name": "stdout",
     "output_type": "stream",
     "text": [
      "0.795    0.076    0.023    0.094    0.012    \n",
      "0.000    0.797    0.000    0.197    0.005    \n",
      "0.001    0.002    0.001    0.014    0.982    \n",
      "0.442    0.169    0.250    0.078    0.061    \n",
      "0.091    0.101    0.124    0.000    0.683    \n"
     ]
    }
   ],
   "source": [
    "model = hmm.GaussianHMM()\n",
    "model.n_components = 5\n",
    "model.n_iter = 500\n",
    "model.covariance_type = \"full\"\n",
    "model.fit(data)\n",
    "\n",
    "for row in model.transmat_:\n",
    "    for r in row:\n",
    "        print(f\"{r:0.3f}    \",end=\"\")\n",
    "    print(\"\")"
   ]
  }
 ],
 "metadata": {
  "kernelspec": {
   "display_name": "Python 3 (ipykernel)",
   "language": "python",
   "name": "python3"
  },
  "language_info": {
   "codemirror_mode": {
    "name": "ipython",
    "version": 3
   },
   "file_extension": ".py",
   "mimetype": "text/x-python",
   "name": "python",
   "nbconvert_exporter": "python",
   "pygments_lexer": "ipython3",
   "version": "3.9.12"
  }
 },
 "nbformat": 4,
 "nbformat_minor": 5
}
